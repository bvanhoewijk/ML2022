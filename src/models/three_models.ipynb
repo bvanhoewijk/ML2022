{
 "cells": [
  {
   "cell_type": "markdown",
   "id": "0af090e7",
   "metadata": {},
   "source": [
    "Copyright (C) 2022 Project Group 127\n",
    "\n",
    "This program is free software: you can redistribute it and/or modify\n",
    "it under the terms of the GNU Affero General Public License version 3 as\n",
    "published by the Free Software Foundation.\n",
    "\n",
    "This program is distributed in the hope that it will be useful,\n",
    "but WITHOUT ANY WARRANTY; without even the implied warranty of\n",
    "MERCHANTABILITY or FITNESS FOR A PARTICULAR PURPOSE. See the\n",
    "GNU Affero General Public License for more details.\n",
    "\n",
    "You should have received a copy of the GNU Affero General Public License\n",
    "along with this program. If not, see <https://www.gnu.org/licenses/>."
   ]
  },
  {
   "cell_type": "code",
   "execution_count": 1,
   "id": "791da14d",
   "metadata": {},
   "outputs": [],
   "source": [
    "\"\"\"\n",
    "Imports:\n",
    "\"\"\"\n",
    "import pandas\n",
    "import sklearn\n",
    "import matplotlib.pyplot as plt\n",
    "import numpy as np\n",
    "import pandas as pd\n",
    "from mlxtend.plotting import plot_decision_regions\n",
    "from sklearn.svm import SVC\n",
    "from sklearn.metrics import accuracy_score\n",
    "from sklearn.tree import DecisionTreeClassifier\n",
    "from sklearn.neighbors import KNeighborsClassifier"
   ]
  },
  {
   "cell_type": "code",
   "execution_count": 2,
   "id": "cfb6c8be",
   "metadata": {},
   "outputs": [],
   "source": [
    "\"\"\"\n",
    "Load the data:\n",
    "\"\"\"\n",
    "training_data = pandas.read_csv(\"../data/dota2TrainingNamed.csv\", sep=\",\")\n",
    "test_data = pandas.read_csv(\"../data/dota2TestNamed.csv\", sep=\",\")"
   ]
  },
  {
   "cell_type": "code",
   "execution_count": 3,
   "id": "3311b9fa",
   "metadata": {},
   "outputs": [
    {
     "data": {
      "text/html": [
       "<div>\n",
       "<style scoped>\n",
       "    .dataframe tbody tr th:only-of-type {\n",
       "        vertical-align: middle;\n",
       "    }\n",
       "\n",
       "    .dataframe tbody tr th {\n",
       "        vertical-align: top;\n",
       "    }\n",
       "\n",
       "    .dataframe thead th {\n",
       "        text-align: right;\n",
       "    }\n",
       "</style>\n",
       "<table border=\"1\" class=\"dataframe\">\n",
       "  <thead>\n",
       "    <tr style=\"text-align: right;\">\n",
       "      <th></th>\n",
       "      <th>winning_team</th>\n",
       "      <th>cluster_id</th>\n",
       "      <th>game_mode</th>\n",
       "      <th>game_type</th>\n",
       "      <th>antimage</th>\n",
       "      <th>axe</th>\n",
       "      <th>bane</th>\n",
       "      <th>bloodseeker</th>\n",
       "      <th>crystal_maiden</th>\n",
       "      <th>drow_ranger</th>\n",
       "      <th>...</th>\n",
       "      <th>legion_commander</th>\n",
       "      <th>techies</th>\n",
       "      <th>ember_spirit</th>\n",
       "      <th>earth_spirit</th>\n",
       "      <th>abyssal_underlord</th>\n",
       "      <th>terrorblade</th>\n",
       "      <th>phoenix</th>\n",
       "      <th>oracle</th>\n",
       "      <th>winter_wyvern</th>\n",
       "      <th>arc_warden</th>\n",
       "    </tr>\n",
       "  </thead>\n",
       "  <tbody>\n",
       "    <tr>\n",
       "      <th>0</th>\n",
       "      <td>-1</td>\n",
       "      <td>223</td>\n",
       "      <td>2</td>\n",
       "      <td>2</td>\n",
       "      <td>0</td>\n",
       "      <td>0</td>\n",
       "      <td>0</td>\n",
       "      <td>0</td>\n",
       "      <td>0</td>\n",
       "      <td>0</td>\n",
       "      <td>...</td>\n",
       "      <td>0</td>\n",
       "      <td>0</td>\n",
       "      <td>0</td>\n",
       "      <td>0</td>\n",
       "      <td>0</td>\n",
       "      <td>0</td>\n",
       "      <td>0</td>\n",
       "      <td>0</td>\n",
       "      <td>0</td>\n",
       "      <td>0</td>\n",
       "    </tr>\n",
       "    <tr>\n",
       "      <th>1</th>\n",
       "      <td>1</td>\n",
       "      <td>152</td>\n",
       "      <td>2</td>\n",
       "      <td>2</td>\n",
       "      <td>0</td>\n",
       "      <td>0</td>\n",
       "      <td>0</td>\n",
       "      <td>1</td>\n",
       "      <td>0</td>\n",
       "      <td>-1</td>\n",
       "      <td>...</td>\n",
       "      <td>0</td>\n",
       "      <td>0</td>\n",
       "      <td>0</td>\n",
       "      <td>0</td>\n",
       "      <td>0</td>\n",
       "      <td>0</td>\n",
       "      <td>0</td>\n",
       "      <td>0</td>\n",
       "      <td>0</td>\n",
       "      <td>0</td>\n",
       "    </tr>\n",
       "    <tr>\n",
       "      <th>2</th>\n",
       "      <td>1</td>\n",
       "      <td>131</td>\n",
       "      <td>2</td>\n",
       "      <td>2</td>\n",
       "      <td>0</td>\n",
       "      <td>0</td>\n",
       "      <td>0</td>\n",
       "      <td>1</td>\n",
       "      <td>0</td>\n",
       "      <td>-1</td>\n",
       "      <td>...</td>\n",
       "      <td>0</td>\n",
       "      <td>0</td>\n",
       "      <td>0</td>\n",
       "      <td>0</td>\n",
       "      <td>0</td>\n",
       "      <td>0</td>\n",
       "      <td>0</td>\n",
       "      <td>0</td>\n",
       "      <td>0</td>\n",
       "      <td>0</td>\n",
       "    </tr>\n",
       "    <tr>\n",
       "      <th>3</th>\n",
       "      <td>1</td>\n",
       "      <td>154</td>\n",
       "      <td>2</td>\n",
       "      <td>2</td>\n",
       "      <td>0</td>\n",
       "      <td>0</td>\n",
       "      <td>0</td>\n",
       "      <td>0</td>\n",
       "      <td>0</td>\n",
       "      <td>0</td>\n",
       "      <td>...</td>\n",
       "      <td>-1</td>\n",
       "      <td>0</td>\n",
       "      <td>0</td>\n",
       "      <td>0</td>\n",
       "      <td>0</td>\n",
       "      <td>0</td>\n",
       "      <td>0</td>\n",
       "      <td>0</td>\n",
       "      <td>0</td>\n",
       "      <td>0</td>\n",
       "    </tr>\n",
       "    <tr>\n",
       "      <th>4</th>\n",
       "      <td>-1</td>\n",
       "      <td>171</td>\n",
       "      <td>2</td>\n",
       "      <td>3</td>\n",
       "      <td>0</td>\n",
       "      <td>0</td>\n",
       "      <td>0</td>\n",
       "      <td>0</td>\n",
       "      <td>0</td>\n",
       "      <td>-1</td>\n",
       "      <td>...</td>\n",
       "      <td>0</td>\n",
       "      <td>0</td>\n",
       "      <td>0</td>\n",
       "      <td>0</td>\n",
       "      <td>0</td>\n",
       "      <td>0</td>\n",
       "      <td>0</td>\n",
       "      <td>0</td>\n",
       "      <td>0</td>\n",
       "      <td>0</td>\n",
       "    </tr>\n",
       "  </tbody>\n",
       "</table>\n",
       "<p>5 rows × 117 columns</p>\n",
       "</div>"
      ],
      "text/plain": [
       "   winning_team  cluster_id  game_mode  game_type  antimage  axe  bane  \\\n",
       "0            -1         223          2          2         0    0     0   \n",
       "1             1         152          2          2         0    0     0   \n",
       "2             1         131          2          2         0    0     0   \n",
       "3             1         154          2          2         0    0     0   \n",
       "4            -1         171          2          3         0    0     0   \n",
       "\n",
       "   bloodseeker  crystal_maiden  drow_ranger  ...  legion_commander  techies  \\\n",
       "0            0               0            0  ...                 0        0   \n",
       "1            1               0           -1  ...                 0        0   \n",
       "2            1               0           -1  ...                 0        0   \n",
       "3            0               0            0  ...                -1        0   \n",
       "4            0               0           -1  ...                 0        0   \n",
       "\n",
       "   ember_spirit  earth_spirit  abyssal_underlord  terrorblade  phoenix  \\\n",
       "0             0             0                  0            0        0   \n",
       "1             0             0                  0            0        0   \n",
       "2             0             0                  0            0        0   \n",
       "3             0             0                  0            0        0   \n",
       "4             0             0                  0            0        0   \n",
       "\n",
       "   oracle  winter_wyvern  arc_warden  \n",
       "0       0              0           0  \n",
       "1       0              0           0  \n",
       "2       0              0           0  \n",
       "3       0              0           0  \n",
       "4       0              0           0  \n",
       "\n",
       "[5 rows x 117 columns]"
      ]
     },
     "execution_count": 3,
     "metadata": {},
     "output_type": "execute_result"
    }
   ],
   "source": [
    "\"\"\"\n",
    "Check data contents training set:\n",
    "\"\"\"\n",
    "training_data.head()"
   ]
  },
  {
   "cell_type": "code",
   "execution_count": 4,
   "id": "9ce4f3a4",
   "metadata": {},
   "outputs": [
    {
     "name": "stdout",
     "output_type": "stream",
     "text": [
      "LOADED DATA\n"
     ]
    }
   ],
   "source": [
    "\"\"\"\n",
    "Seperate training and test data into a class variable and feature variable:\n",
    "\"\"\"\n",
    "train_x = training_data.iloc[:, 4:]\n",
    "train_y = training_data[\"winning_team\"]\n",
    "test_x = test_data.iloc[:, 4:]\n",
    "test_y = test_data[\"winning_team\"]\n",
    "print(\"LOADED DATA\")"
   ]
  },
  {
   "cell_type": "code",
   "execution_count": 5,
   "id": "f02ec51a",
   "metadata": {},
   "outputs": [
    {
     "name": "stdout",
     "output_type": "stream",
     "text": [
      "LOADED LINEAR MODEL\n",
      "FITTED LINEAR MODEL\n"
     ]
    }
   ],
   "source": [
    "\"\"\"\n",
    "Create a linear classification model:\n",
    "\"\"\"\n",
    "linear = SVC(kernel=\"linear\")\n",
    "print(\"LOADED LINEAR MODEL\")\n",
    "linear.fit(train_x, train_y)\n",
    "print(\"FITTED LINEAR MODEL\")"
   ]
  },
  {
   "cell_type": "code",
   "execution_count": 6,
   "id": "95a7e5c1",
   "metadata": {},
   "outputs": [
    {
     "name": "stdout",
     "output_type": "stream",
     "text": [
      "TESTED LINEAR MODEL\n",
      "LINEAR MODEL ACCURACY: 0.5972411113269865\n"
     ]
    }
   ],
   "source": [
    "\"\"\"\n",
    "Check the performance for the model:\n",
    "\"\"\"\n",
    "linear_prediction = linear.predict(test_x)\n",
    "print(\"TESTED LINEAR MODEL\")\n",
    "linear_accuracy = accuracy_score(test_y, linear_prediction)\n",
    "print(\"LINEAR MODEL ACCURACY: \" + str(linear_accuracy))"
   ]
  },
  {
   "cell_type": "code",
   "execution_count": 7,
   "id": "47e80230",
   "metadata": {},
   "outputs": [
    {
     "name": "stdout",
     "output_type": "stream",
     "text": [
      "LOADED KNN MODEL\n",
      "FITTED KNN MODEL\n"
     ]
    }
   ],
   "source": [
    "\"\"\"\n",
    "Create kNN classification model:\n",
    "\"\"\"\n",
    "knn = KNeighborsClassifier(10)\n",
    "print(\"LOADED KNN MODEL\")\n",
    "knn.fit(train_x, train_y)\n",
    "print(\"FITTED KNN MODEL\")"
   ]
  },
  {
   "cell_type": "code",
   "execution_count": 8,
   "id": "73399bd6",
   "metadata": {},
   "outputs": [
    {
     "name": "stdout",
     "output_type": "stream",
     "text": [
      "TESTED KNN MODEL\n",
      "KNN MODEL ACCURACY: 0.5341946765105887\n"
     ]
    }
   ],
   "source": [
    "\"\"\"\n",
    "Check the performance for the model:\n",
    "\"\"\"\n",
    "knn_prediction = knn.predict(test_x)\n",
    "print(\"TESTED KNN MODEL\")\n",
    "knn_accuracy = accuracy_score(test_y, knn_prediction)\n",
    "print(\"KNN MODEL ACCURACY: \" + str(knn_accuracy))"
   ]
  },
  {
   "cell_type": "code",
   "execution_count": 9,
   "id": "28fe495f",
   "metadata": {},
   "outputs": [
    {
     "name": "stdout",
     "output_type": "stream",
     "text": [
      "LOADED TREE MODEL\n",
      "FITTED TREE MODEL\n"
     ]
    }
   ],
   "source": [
    "\"\"\"\n",
    "Create a decision tree classification model:\n",
    "\"\"\"\n",
    "tree = DecisionTreeClassifier()\n",
    "print(\"LOADED TREE MODEL\")\n",
    "tree.fit(train_x, train_y)\n",
    "print(\"FITTED TREE MODEL\")"
   ]
  },
  {
   "cell_type": "code",
   "execution_count": 10,
   "id": "6d829a86",
   "metadata": {},
   "outputs": [
    {
     "name": "stdout",
     "output_type": "stream",
     "text": [
      "TESTED TREE MODEL\n",
      "TREE MODEL ACCURACY: 0.5204002331455216\n"
     ]
    }
   ],
   "source": [
    "\"\"\"\n",
    "Check the performance for the model:\n",
    "\"\"\"\n",
    "tree_prediction = tree.predict(test_x)\n",
    "print(\"TESTED TREE MODEL\")\n",
    "tree_accuracy = accuracy_score(test_y, tree_prediction)\n",
    "print(\"TREE MODEL ACCURACY: \" + str(tree_accuracy))"
   ]
  }
 ],
 "metadata": {
  "kernelspec": {
   "display_name": "Python 3 (ipykernel)",
   "language": "python",
   "name": "python3"
  },
  "language_info": {
   "codemirror_mode": {
    "name": "ipython",
    "version": 3
   },
   "file_extension": ".py",
   "mimetype": "text/x-python",
   "name": "python",
   "nbconvert_exporter": "python",
   "pygments_lexer": "ipython3",
   "version": "3.8.1"
  }
 },
 "nbformat": 4,
 "nbformat_minor": 5
}

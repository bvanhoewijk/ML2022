{
 "cells": [
  {
   "cell_type": "markdown",
   "id": "0af090e7",
   "metadata": {},
   "source": [
    "Copyright (C) 2022 Project Group 127\n",
    "\n",
    "This program is free software: you can redistribute it and/or modify\n",
    "it under the terms of the GNU Affero General Public License version 3 as\n",
    "published by the Free Software Foundation.\n",
    "\n",
    "This program is distributed in the hope that it will be useful,\n",
    "but WITHOUT ANY WARRANTY; without even the implied warranty of\n",
    "MERCHANTABILITY or FITNESS FOR A PARTICULAR PURPOSE. See the\n",
    "GNU Affero General Public License for more details.\n",
    "\n",
    "You should have received a copy of the GNU Affero General Public License\n",
    "along with this program. If not, see <https://www.gnu.org/licenses/>."
   ]
  },
  {
   "cell_type": "code",
   "execution_count": 14,
   "id": "791da14d",
   "metadata": {},
   "outputs": [],
   "source": [
    "\"\"\"\n",
    "Imports:\n",
    "\"\"\"\n",
    "import pandas\n",
    "import sklearn\n",
    "import matplotlib.pyplot as plt\n",
    "import numpy as np\n",
    "import pandas as pd\n",
    "from sklearn.svm import SVC\n",
    "from sklearn import metrics\n",
    "from sklearn.metrics import accuracy_score\n",
    "from sklearn.ensemble import RandomForestClassifier\n",
    "from sklearn.ensemble import RandomForestRegressor\n",
    "from sklearn.datasets import make_classification\n",
    "from sklearn import datasets\n",
    "from sklearn.model_selection import train_test_split\n",
    "from sklearn.model_selection import GridSearchCV\n",
    "from sklearn.metrics import classification_report\n",
    "from sklearn.model_selection import train_test_split"
   ]
  },
  {
   "cell_type": "code",
   "execution_count": 15,
   "id": "cfb6c8be",
   "metadata": {},
   "outputs": [],
   "source": [
    "\"\"\"\n",
    "Load the data:\n",
    "\"\"\"\n",
    "data = pandas.read_csv(r\"C:\\Users\\havik\\Downloads/jan_2021_to_feb_2022_linear_output_with_attributes.csv\", sep=\",\")\n"
   ]
  },
  {
   "cell_type": "code",
   "execution_count": 16,
   "id": "3311b9fa",
   "metadata": {},
   "outputs": [
    {
     "data": {
      "text/html": [
       "<div>\n",
       "<style scoped>\n",
       "    .dataframe tbody tr th:only-of-type {\n",
       "        vertical-align: middle;\n",
       "    }\n",
       "\n",
       "    .dataframe tbody tr th {\n",
       "        vertical-align: top;\n",
       "    }\n",
       "\n",
       "    .dataframe thead th {\n",
       "        text-align: right;\n",
       "    }\n",
       "</style>\n",
       "<table border=\"1\" class=\"dataframe\">\n",
       "  <thead>\n",
       "    <tr style=\"text-align: right;\">\n",
       "      <th></th>\n",
       "      <th>match_id</th>\n",
       "      <th>match_result</th>\n",
       "      <th>1_antimage</th>\n",
       "      <th>2_axe</th>\n",
       "      <th>3_bane</th>\n",
       "      <th>4_bloodseeker</th>\n",
       "      <th>5_crystal_maiden</th>\n",
       "      <th>6_drow_ranger</th>\n",
       "      <th>7_earthshaker</th>\n",
       "      <th>8_juggernaut</th>\n",
       "      <th>...</th>\n",
       "      <th>radiant_str</th>\n",
       "      <th>radiant_int</th>\n",
       "      <th>radiant_agi</th>\n",
       "      <th>radiant_melee</th>\n",
       "      <th>radiant_ranged</th>\n",
       "      <th>dire_str</th>\n",
       "      <th>dire_int</th>\n",
       "      <th>dire_agi</th>\n",
       "      <th>dire_melee</th>\n",
       "      <th>dire_ranged</th>\n",
       "    </tr>\n",
       "  </thead>\n",
       "  <tbody>\n",
       "    <tr>\n",
       "      <th>0</th>\n",
       "      <td>5792362494</td>\n",
       "      <td>1</td>\n",
       "      <td>0</td>\n",
       "      <td>0</td>\n",
       "      <td>0</td>\n",
       "      <td>0</td>\n",
       "      <td>0</td>\n",
       "      <td>0</td>\n",
       "      <td>0</td>\n",
       "      <td>0</td>\n",
       "      <td>...</td>\n",
       "      <td>1</td>\n",
       "      <td>2</td>\n",
       "      <td>2</td>\n",
       "      <td>1</td>\n",
       "      <td>4</td>\n",
       "      <td>1</td>\n",
       "      <td>3</td>\n",
       "      <td>1</td>\n",
       "      <td>1</td>\n",
       "      <td>4</td>\n",
       "    </tr>\n",
       "    <tr>\n",
       "      <th>1</th>\n",
       "      <td>5794821137</td>\n",
       "      <td>-1</td>\n",
       "      <td>0</td>\n",
       "      <td>0</td>\n",
       "      <td>0</td>\n",
       "      <td>-1</td>\n",
       "      <td>1</td>\n",
       "      <td>0</td>\n",
       "      <td>0</td>\n",
       "      <td>0</td>\n",
       "      <td>...</td>\n",
       "      <td>2</td>\n",
       "      <td>2</td>\n",
       "      <td>1</td>\n",
       "      <td>2</td>\n",
       "      <td>3</td>\n",
       "      <td>2</td>\n",
       "      <td>2</td>\n",
       "      <td>1</td>\n",
       "      <td>3</td>\n",
       "      <td>2</td>\n",
       "    </tr>\n",
       "    <tr>\n",
       "      <th>2</th>\n",
       "      <td>5790226407</td>\n",
       "      <td>1</td>\n",
       "      <td>0</td>\n",
       "      <td>0</td>\n",
       "      <td>0</td>\n",
       "      <td>0</td>\n",
       "      <td>0</td>\n",
       "      <td>0</td>\n",
       "      <td>0</td>\n",
       "      <td>0</td>\n",
       "      <td>...</td>\n",
       "      <td>1</td>\n",
       "      <td>1</td>\n",
       "      <td>3</td>\n",
       "      <td>2</td>\n",
       "      <td>3</td>\n",
       "      <td>3</td>\n",
       "      <td>1</td>\n",
       "      <td>1</td>\n",
       "      <td>3</td>\n",
       "      <td>2</td>\n",
       "    </tr>\n",
       "    <tr>\n",
       "      <th>3</th>\n",
       "      <td>5790375758</td>\n",
       "      <td>1</td>\n",
       "      <td>0</td>\n",
       "      <td>0</td>\n",
       "      <td>0</td>\n",
       "      <td>0</td>\n",
       "      <td>0</td>\n",
       "      <td>0</td>\n",
       "      <td>0</td>\n",
       "      <td>0</td>\n",
       "      <td>...</td>\n",
       "      <td>2</td>\n",
       "      <td>3</td>\n",
       "      <td>0</td>\n",
       "      <td>2</td>\n",
       "      <td>3</td>\n",
       "      <td>2</td>\n",
       "      <td>2</td>\n",
       "      <td>1</td>\n",
       "      <td>3</td>\n",
       "      <td>2</td>\n",
       "    </tr>\n",
       "    <tr>\n",
       "      <th>4</th>\n",
       "      <td>5790649968</td>\n",
       "      <td>-1</td>\n",
       "      <td>0</td>\n",
       "      <td>0</td>\n",
       "      <td>0</td>\n",
       "      <td>0</td>\n",
       "      <td>0</td>\n",
       "      <td>0</td>\n",
       "      <td>0</td>\n",
       "      <td>0</td>\n",
       "      <td>...</td>\n",
       "      <td>2</td>\n",
       "      <td>3</td>\n",
       "      <td>0</td>\n",
       "      <td>2</td>\n",
       "      <td>3</td>\n",
       "      <td>4</td>\n",
       "      <td>0</td>\n",
       "      <td>1</td>\n",
       "      <td>4</td>\n",
       "      <td>1</td>\n",
       "    </tr>\n",
       "  </tbody>\n",
       "</table>\n",
       "<p>5 rows × 135 columns</p>\n",
       "</div>"
      ],
      "text/plain": [
       "     match_id  match_result  1_antimage  2_axe  3_bane  4_bloodseeker  \\\n",
       "0  5792362494             1           0      0       0              0   \n",
       "1  5794821137            -1           0      0       0             -1   \n",
       "2  5790226407             1           0      0       0              0   \n",
       "3  5790375758             1           0      0       0              0   \n",
       "4  5790649968            -1           0      0       0              0   \n",
       "\n",
       "   5_crystal_maiden  6_drow_ranger  7_earthshaker  8_juggernaut  ...  \\\n",
       "0                 0              0              0             0  ...   \n",
       "1                 1              0              0             0  ...   \n",
       "2                 0              0              0             0  ...   \n",
       "3                 0              0              0             0  ...   \n",
       "4                 0              0              0             0  ...   \n",
       "\n",
       "   radiant_str  radiant_int  radiant_agi  radiant_melee  radiant_ranged  \\\n",
       "0            1            2            2              1               4   \n",
       "1            2            2            1              2               3   \n",
       "2            1            1            3              2               3   \n",
       "3            2            3            0              2               3   \n",
       "4            2            3            0              2               3   \n",
       "\n",
       "   dire_str  dire_int  dire_agi  dire_melee  dire_ranged  \n",
       "0         1         3         1           1            4  \n",
       "1         2         2         1           3            2  \n",
       "2         3         1         1           3            2  \n",
       "3         2         2         1           3            2  \n",
       "4         4         0         1           4            1  \n",
       "\n",
       "[5 rows x 135 columns]"
      ]
     },
     "execution_count": 16,
     "metadata": {},
     "output_type": "execute_result"
    }
   ],
   "source": [
    "\"\"\"\n",
    "Check data contents training set:\n",
    "\"\"\"\n",
    "data.head()"
   ]
  },
  {
   "cell_type": "code",
   "execution_count": 17,
   "id": "9ce4f3a4",
   "metadata": {},
   "outputs": [],
   "source": [
    "\"\"\"\n",
    "Designating the data into a class variable and feature variable:\n",
    "\"\"\"\n",
    "x = data.iloc[:,2:]\n",
    "y = data[\"match_result\"]"
   ]
  },
  {
   "cell_type": "code",
   "execution_count": 18,
   "id": "ffc117d3",
   "metadata": {},
   "outputs": [],
   "source": [
    "\"\"\"\n",
    "Seperate training and test data into a class variable and feature variable:\n",
    "\"\"\"\n",
    "x_train, x_test, y_train, y_test = train_test_split(x, y, test_size=0.20, random_state=101)\n"
   ]
  },
  {
   "cell_type": "code",
   "execution_count": 19,
   "id": "93f049b3",
   "metadata": {},
   "outputs": [
    {
     "name": "stdout",
     "output_type": "stream",
     "text": [
      "x_train : (9908, 133)\n",
      "y_train : (9908,)\n",
      "x_test : (2478, 133)\n",
      "y_test : (2478,)\n"
     ]
    }
   ],
   "source": [
    "\"\"\"\n",
    "Printing the rows and columns for both sets to verify:\n",
    "\"\"\"\n",
    "print(f'x_train : {x_train.shape}')\n",
    "print(f'y_train : {y_train.shape}')\n",
    "print(f'x_test : {x_test.shape}')\n",
    "print(f'y_test : {y_test.shape}')"
   ]
  },
  {
   "cell_type": "code",
   "execution_count": 20,
   "id": "d9ac4eae",
   "metadata": {},
   "outputs": [],
   "source": [
    "# Number of trees in random forest\n",
    "n_estimators = [int(x) for x in np.linspace(start = 50, stop = 55, num = 6)]\n",
    "# Number of features to consider at every split\n",
    "max_features = ['auto', 'sqrt']\n",
    "# Maximum number of levels in tree\n",
    "max_depth = [2,4]\n",
    "# Minimum number of samples required to split a node\n",
    "min_samples_split = [2, 5]\n",
    "# Minimum number of samples required at each leaf node\n",
    "min_samples_leaf = [1, 2]\n",
    "# Method of selecting samples for training each tree\n",
    "bootstrap = [True, False]"
   ]
  },
  {
   "cell_type": "code",
   "execution_count": 21,
   "id": "a3e2100d",
   "metadata": {},
   "outputs": [
    {
     "name": "stdout",
     "output_type": "stream",
     "text": [
      "{'n_estimators': [50, 51, 52, 53, 54, 55], 'max_features': ['auto', 'sqrt'], 'max_depth': [2, 4], 'min_samples_split': [2, 5], 'min_samples_leaf': [1, 2], 'bootstrap': [True, False]}\n"
     ]
    }
   ],
   "source": [
    "# Create the param grid\n",
    "param_grid = {'n_estimators': n_estimators,\n",
    "               'max_features': max_features,\n",
    "               'max_depth': max_depth,\n",
    "               'min_samples_split': min_samples_split,\n",
    "               'min_samples_leaf': min_samples_leaf,\n",
    "               'bootstrap': bootstrap}\n",
    "print(param_grid)"
   ]
  },
  {
   "cell_type": "code",
   "execution_count": 22,
   "id": "645db188",
   "metadata": {},
   "outputs": [],
   "source": [
    "rf_Model = RandomForestClassifier()"
   ]
  },
  {
   "cell_type": "code",
   "execution_count": 27,
   "id": "329d418c",
   "metadata": {},
   "outputs": [],
   "source": [
    "# Default value for cv is 5 for a 5-fold cross validation but I have played around with a few other integers \n",
    "# and have found 30 to be a nice balance of computational power and results. Changing the value for verbose just\n",
    "# shows more messages regarding the computation time of the fold and how each parameter gets decided.\n",
    "# n_jobs\n",
    "rf_Grid = GridSearchCV(estimator = rf_Model, param_grid = param_grid, cv = 30, verbose=3, n_jobs = 1)"
   ]
  },
  {
   "cell_type": "code",
   "execution_count": 28,
   "id": "cc4ca6b5",
   "metadata": {},
   "outputs": [
    {
     "name": "stdout",
     "output_type": "stream",
     "text": [
      "Fitting 30 folds for each of 192 candidates, totalling 5760 fits\n"
     ]
    },
    {
     "data": {
      "text/plain": [
       "GridSearchCV(cv=30, estimator=RandomForestClassifier(), n_jobs=5,\n",
       "             param_grid={'bootstrap': [True, False], 'max_depth': [2, 4],\n",
       "                         'max_features': ['auto', 'sqrt'],\n",
       "                         'min_samples_leaf': [1, 2],\n",
       "                         'min_samples_split': [2, 5],\n",
       "                         'n_estimators': [50, 51, 52, 53, 54, 55]},\n",
       "             verbose=3)"
      ]
     },
     "execution_count": 28,
     "metadata": {},
     "output_type": "execute_result"
    }
   ],
   "source": [
    "rf_Grid.fit(x_train, y_train)"
   ]
  },
  {
   "cell_type": "code",
   "execution_count": 29,
   "id": "84438731",
   "metadata": {},
   "outputs": [
    {
     "data": {
      "text/plain": [
       "{'bootstrap': False,\n",
       " 'max_depth': 4,\n",
       " 'max_features': 'auto',\n",
       " 'min_samples_leaf': 2,\n",
       " 'min_samples_split': 2,\n",
       " 'n_estimators': 53}"
      ]
     },
     "execution_count": 29,
     "metadata": {},
     "output_type": "execute_result"
    }
   ],
   "source": [
    "rf_Grid.best_params_\n"
   ]
  },
  {
   "cell_type": "code",
   "execution_count": 30,
   "id": "dfcb9149",
   "metadata": {},
   "outputs": [
    {
     "name": "stdout",
     "output_type": "stream",
     "text": [
      "Train Accuracy - : 0.552\n",
      "Test Accuracy - : 0.531\n"
     ]
    }
   ],
   "source": [
    "print (f'Train Accuracy - : {rf_Grid.score(x_train,y_train):.3f}')\n",
    "print (f'Test Accuracy - : {rf_Grid.score(x_test,y_test):.3f}')"
   ]
  },
  {
   "cell_type": "markdown",
   "id": "eedd0309",
   "metadata": {},
   "source": [
    "After multiple fits, I've found that the best parameters for the Random Forest model tuned with GridSearch crossvalidation are: bootstrap: False, max_depth: 4, min_samples_leaf: 2, min_samples_split: 2 and n_estimators: 53.\n",
    "Changing the amount of crossvalidations done in the range from 5-30 has a slight effect on the accuracy of the training model. The accuracy ranges from 0.537 to 0.552 in recent fits."
   ]
  },
  {
   "cell_type": "code",
   "execution_count": null,
   "id": "d53ff6ab",
   "metadata": {},
   "outputs": [],
   "source": []
  }
 ],
 "metadata": {
  "kernelspec": {
   "display_name": "Python 3 (ipykernel)",
   "language": "python",
   "name": "python3"
  },
  "language_info": {
   "codemirror_mode": {
    "name": "ipython",
    "version": 3
   },
   "file_extension": ".py",
   "mimetype": "text/x-python",
   "name": "python",
   "nbconvert_exporter": "python",
   "pygments_lexer": "ipython3",
   "version": "3.8.1"
  }
 },
 "nbformat": 4,
 "nbformat_minor": 5
}

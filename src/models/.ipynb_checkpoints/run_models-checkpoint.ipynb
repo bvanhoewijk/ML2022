{
 "cells": [
  {
   "cell_type": "markdown",
   "id": "0af090e7",
   "metadata": {},
   "source": [
    "Copyright (C) 2022 Project Group 127\n",
    "\n",
    "This program is free software: you can redistribute it and/or modify\n",
    "it under the terms of the GNU Affero General Public License version 3 as\n",
    "published by the Free Software Foundation.\n",
    "\n",
    "This program is distributed in the hope that it will be useful,\n",
    "but WITHOUT ANY WARRANTY; without even the implied warranty of\n",
    "MERCHANTABILITY or FITNESS FOR A PARTICULAR PURPOSE. See the\n",
    "GNU Affero General Public License for more details.\n",
    "\n",
    "You should have received a copy of the GNU Affero General Public License\n",
    "along with this program. If not, see <https://www.gnu.org/licenses/>."
   ]
  },
  {
   "cell_type": "markdown",
   "id": "fcd1545e",
   "metadata": {},
   "source": [
    "# Imports\n",
    "\n",
    "Import the correct packages for running the classification models."
   ]
  },
  {
   "cell_type": "code",
   "execution_count": 10,
   "id": "791da14d",
   "metadata": {},
   "outputs": [],
   "source": [
    "import pandas\n",
    "import numpy\n",
    "import matplotlib.pyplot as plt\n",
    "from sklearn.svm import SVC\n",
    "from sklearn.tree import DecisionTreeClassifier\n",
    "from sklearn.neighbors import KNeighborsClassifier\n",
    "from sklearn.ensemble import RandomForestClassifier\n",
    "from sklearn.model_selection import train_test_split\n",
    "from sklearn.model_selection import GridSearchCV\n",
    "from sklearn.dummy import DummyClassifier\n",
    "from sklearn.metrics import (\n",
    "    accuracy_score,\n",
    "    plot_confusion_matrix,\n",
    "    classification_report,\n",
    "    precision_score,\n",
    "    recall_score,\n",
    "    f1_score,\n",
    "    precision_recall_fscore_support,\n",
    "    plot_roc_curve,\n",
    ")"
   ]
  },
  {
   "cell_type": "markdown",
   "id": "0818712d",
   "metadata": {},
   "source": [
    "# Load the data\n",
    "\n",
    "Also check out the first 10 lines of the loaded data."
   ]
  },
  {
   "cell_type": "code",
   "execution_count": 11,
   "id": "cfb6c8be",
   "metadata": {},
   "outputs": [
    {
     "data": {
      "text/html": [
       "<div>\n",
       "<style scoped>\n",
       "    .dataframe tbody tr th:only-of-type {\n",
       "        vertical-align: middle;\n",
       "    }\n",
       "\n",
       "    .dataframe tbody tr th {\n",
       "        vertical-align: top;\n",
       "    }\n",
       "\n",
       "    .dataframe thead th {\n",
       "        text-align: right;\n",
       "    }\n",
       "</style>\n",
       "<table border=\"1\" class=\"dataframe\">\n",
       "  <thead>\n",
       "    <tr style=\"text-align: right;\">\n",
       "      <th></th>\n",
       "      <th>match_id</th>\n",
       "      <th>match_result</th>\n",
       "      <th>1_antimage</th>\n",
       "      <th>2_axe</th>\n",
       "      <th>3_bane</th>\n",
       "      <th>4_bloodseeker</th>\n",
       "      <th>5_crystal_maiden</th>\n",
       "      <th>6_drow_ranger</th>\n",
       "      <th>7_earthshaker</th>\n",
       "      <th>8_juggernaut</th>\n",
       "      <th>...</th>\n",
       "      <th>radiant_str</th>\n",
       "      <th>radiant_int</th>\n",
       "      <th>radiant_agi</th>\n",
       "      <th>radiant_melee</th>\n",
       "      <th>radiant_ranged</th>\n",
       "      <th>dire_str</th>\n",
       "      <th>dire_int</th>\n",
       "      <th>dire_agi</th>\n",
       "      <th>dire_melee</th>\n",
       "      <th>dire_ranged</th>\n",
       "    </tr>\n",
       "  </thead>\n",
       "  <tbody>\n",
       "    <tr>\n",
       "      <th>0</th>\n",
       "      <td>5792362494</td>\n",
       "      <td>1</td>\n",
       "      <td>0</td>\n",
       "      <td>0</td>\n",
       "      <td>0</td>\n",
       "      <td>0</td>\n",
       "      <td>0</td>\n",
       "      <td>0</td>\n",
       "      <td>0</td>\n",
       "      <td>0</td>\n",
       "      <td>...</td>\n",
       "      <td>0.2</td>\n",
       "      <td>0.4</td>\n",
       "      <td>0.4</td>\n",
       "      <td>0.2</td>\n",
       "      <td>0.8</td>\n",
       "      <td>0.2</td>\n",
       "      <td>0.6</td>\n",
       "      <td>0.2</td>\n",
       "      <td>0.2</td>\n",
       "      <td>0.8</td>\n",
       "    </tr>\n",
       "    <tr>\n",
       "      <th>1</th>\n",
       "      <td>5794821137</td>\n",
       "      <td>-1</td>\n",
       "      <td>0</td>\n",
       "      <td>0</td>\n",
       "      <td>0</td>\n",
       "      <td>-1</td>\n",
       "      <td>1</td>\n",
       "      <td>0</td>\n",
       "      <td>0</td>\n",
       "      <td>0</td>\n",
       "      <td>...</td>\n",
       "      <td>0.4</td>\n",
       "      <td>0.4</td>\n",
       "      <td>0.2</td>\n",
       "      <td>0.4</td>\n",
       "      <td>0.6</td>\n",
       "      <td>0.4</td>\n",
       "      <td>0.4</td>\n",
       "      <td>0.2</td>\n",
       "      <td>0.6</td>\n",
       "      <td>0.4</td>\n",
       "    </tr>\n",
       "    <tr>\n",
       "      <th>2</th>\n",
       "      <td>5790226407</td>\n",
       "      <td>1</td>\n",
       "      <td>0</td>\n",
       "      <td>0</td>\n",
       "      <td>0</td>\n",
       "      <td>0</td>\n",
       "      <td>0</td>\n",
       "      <td>0</td>\n",
       "      <td>0</td>\n",
       "      <td>0</td>\n",
       "      <td>...</td>\n",
       "      <td>0.2</td>\n",
       "      <td>0.2</td>\n",
       "      <td>0.6</td>\n",
       "      <td>0.4</td>\n",
       "      <td>0.6</td>\n",
       "      <td>0.6</td>\n",
       "      <td>0.2</td>\n",
       "      <td>0.2</td>\n",
       "      <td>0.6</td>\n",
       "      <td>0.4</td>\n",
       "    </tr>\n",
       "    <tr>\n",
       "      <th>3</th>\n",
       "      <td>5790375758</td>\n",
       "      <td>1</td>\n",
       "      <td>0</td>\n",
       "      <td>0</td>\n",
       "      <td>0</td>\n",
       "      <td>0</td>\n",
       "      <td>0</td>\n",
       "      <td>0</td>\n",
       "      <td>0</td>\n",
       "      <td>0</td>\n",
       "      <td>...</td>\n",
       "      <td>0.4</td>\n",
       "      <td>0.6</td>\n",
       "      <td>0.0</td>\n",
       "      <td>0.4</td>\n",
       "      <td>0.6</td>\n",
       "      <td>0.4</td>\n",
       "      <td>0.4</td>\n",
       "      <td>0.2</td>\n",
       "      <td>0.6</td>\n",
       "      <td>0.4</td>\n",
       "    </tr>\n",
       "    <tr>\n",
       "      <th>4</th>\n",
       "      <td>5790649968</td>\n",
       "      <td>-1</td>\n",
       "      <td>0</td>\n",
       "      <td>0</td>\n",
       "      <td>0</td>\n",
       "      <td>0</td>\n",
       "      <td>0</td>\n",
       "      <td>0</td>\n",
       "      <td>0</td>\n",
       "      <td>0</td>\n",
       "      <td>...</td>\n",
       "      <td>0.4</td>\n",
       "      <td>0.6</td>\n",
       "      <td>0.0</td>\n",
       "      <td>0.4</td>\n",
       "      <td>0.6</td>\n",
       "      <td>0.8</td>\n",
       "      <td>0.0</td>\n",
       "      <td>0.2</td>\n",
       "      <td>0.8</td>\n",
       "      <td>0.2</td>\n",
       "    </tr>\n",
       "  </tbody>\n",
       "</table>\n",
       "<p>5 rows × 135 columns</p>\n",
       "</div>"
      ],
      "text/plain": [
       "     match_id  match_result  1_antimage  2_axe  3_bane  4_bloodseeker  \\\n",
       "0  5792362494             1           0      0       0              0   \n",
       "1  5794821137            -1           0      0       0             -1   \n",
       "2  5790226407             1           0      0       0              0   \n",
       "3  5790375758             1           0      0       0              0   \n",
       "4  5790649968            -1           0      0       0              0   \n",
       "\n",
       "   5_crystal_maiden  6_drow_ranger  7_earthshaker  8_juggernaut  ...  \\\n",
       "0                 0              0              0             0  ...   \n",
       "1                 1              0              0             0  ...   \n",
       "2                 0              0              0             0  ...   \n",
       "3                 0              0              0             0  ...   \n",
       "4                 0              0              0             0  ...   \n",
       "\n",
       "   radiant_str  radiant_int  radiant_agi  radiant_melee  radiant_ranged  \\\n",
       "0          0.2          0.4          0.4            0.2             0.8   \n",
       "1          0.4          0.4          0.2            0.4             0.6   \n",
       "2          0.2          0.2          0.6            0.4             0.6   \n",
       "3          0.4          0.6          0.0            0.4             0.6   \n",
       "4          0.4          0.6          0.0            0.4             0.6   \n",
       "\n",
       "   dire_str  dire_int  dire_agi  dire_melee  dire_ranged  \n",
       "0       0.2       0.6       0.2         0.2          0.8  \n",
       "1       0.4       0.4       0.2         0.6          0.4  \n",
       "2       0.6       0.2       0.2         0.6          0.4  \n",
       "3       0.4       0.4       0.2         0.6          0.4  \n",
       "4       0.8       0.0       0.2         0.8          0.2  \n",
       "\n",
       "[5 rows x 135 columns]"
      ]
     },
     "execution_count": 11,
     "metadata": {},
     "output_type": "execute_result"
    }
   ],
   "source": [
    "api_data = pandas.read_csv(\"../../data/API/api_dataset_professional_games_better.csv\", sep=\",\")\n",
    "api_data.head()"
   ]
  },
  {
   "cell_type": "markdown",
   "id": "3e4de35b",
   "metadata": {},
   "source": [
    "# Seperate full dataset into features and class\n",
    "\n",
    "The features are put in the \"x\" variable, the class in the \"y\" variable.  \n",
    "Also check the contents of the \"x\" and \"y\" variables."
   ]
  },
  {
   "cell_type": "code",
   "execution_count": 12,
   "id": "9ce4f3a4",
   "metadata": {},
   "outputs": [
    {
     "data": {
      "text/html": [
       "<div>\n",
       "<style scoped>\n",
       "    .dataframe tbody tr th:only-of-type {\n",
       "        vertical-align: middle;\n",
       "    }\n",
       "\n",
       "    .dataframe tbody tr th {\n",
       "        vertical-align: top;\n",
       "    }\n",
       "\n",
       "    .dataframe thead th {\n",
       "        text-align: right;\n",
       "    }\n",
       "</style>\n",
       "<table border=\"1\" class=\"dataframe\">\n",
       "  <thead>\n",
       "    <tr style=\"text-align: right;\">\n",
       "      <th></th>\n",
       "      <th>1_antimage</th>\n",
       "      <th>2_axe</th>\n",
       "      <th>3_bane</th>\n",
       "      <th>4_bloodseeker</th>\n",
       "      <th>5_crystal_maiden</th>\n",
       "      <th>6_drow_ranger</th>\n",
       "      <th>7_earthshaker</th>\n",
       "      <th>8_juggernaut</th>\n",
       "      <th>9_mirana</th>\n",
       "      <th>11_nevermore</th>\n",
       "      <th>...</th>\n",
       "      <th>radiant_str</th>\n",
       "      <th>radiant_int</th>\n",
       "      <th>radiant_agi</th>\n",
       "      <th>radiant_melee</th>\n",
       "      <th>radiant_ranged</th>\n",
       "      <th>dire_str</th>\n",
       "      <th>dire_int</th>\n",
       "      <th>dire_agi</th>\n",
       "      <th>dire_melee</th>\n",
       "      <th>dire_ranged</th>\n",
       "    </tr>\n",
       "  </thead>\n",
       "  <tbody>\n",
       "    <tr>\n",
       "      <th>0</th>\n",
       "      <td>0</td>\n",
       "      <td>0</td>\n",
       "      <td>0</td>\n",
       "      <td>0</td>\n",
       "      <td>0</td>\n",
       "      <td>0</td>\n",
       "      <td>0</td>\n",
       "      <td>0</td>\n",
       "      <td>0</td>\n",
       "      <td>0</td>\n",
       "      <td>...</td>\n",
       "      <td>0.2</td>\n",
       "      <td>0.4</td>\n",
       "      <td>0.4</td>\n",
       "      <td>0.2</td>\n",
       "      <td>0.8</td>\n",
       "      <td>0.2</td>\n",
       "      <td>0.6</td>\n",
       "      <td>0.2</td>\n",
       "      <td>0.2</td>\n",
       "      <td>0.8</td>\n",
       "    </tr>\n",
       "    <tr>\n",
       "      <th>1</th>\n",
       "      <td>0</td>\n",
       "      <td>0</td>\n",
       "      <td>0</td>\n",
       "      <td>-1</td>\n",
       "      <td>1</td>\n",
       "      <td>0</td>\n",
       "      <td>0</td>\n",
       "      <td>0</td>\n",
       "      <td>0</td>\n",
       "      <td>0</td>\n",
       "      <td>...</td>\n",
       "      <td>0.4</td>\n",
       "      <td>0.4</td>\n",
       "      <td>0.2</td>\n",
       "      <td>0.4</td>\n",
       "      <td>0.6</td>\n",
       "      <td>0.4</td>\n",
       "      <td>0.4</td>\n",
       "      <td>0.2</td>\n",
       "      <td>0.6</td>\n",
       "      <td>0.4</td>\n",
       "    </tr>\n",
       "    <tr>\n",
       "      <th>2</th>\n",
       "      <td>0</td>\n",
       "      <td>0</td>\n",
       "      <td>0</td>\n",
       "      <td>0</td>\n",
       "      <td>0</td>\n",
       "      <td>0</td>\n",
       "      <td>0</td>\n",
       "      <td>0</td>\n",
       "      <td>0</td>\n",
       "      <td>1</td>\n",
       "      <td>...</td>\n",
       "      <td>0.2</td>\n",
       "      <td>0.2</td>\n",
       "      <td>0.6</td>\n",
       "      <td>0.4</td>\n",
       "      <td>0.6</td>\n",
       "      <td>0.6</td>\n",
       "      <td>0.2</td>\n",
       "      <td>0.2</td>\n",
       "      <td>0.6</td>\n",
       "      <td>0.4</td>\n",
       "    </tr>\n",
       "    <tr>\n",
       "      <th>3</th>\n",
       "      <td>0</td>\n",
       "      <td>0</td>\n",
       "      <td>0</td>\n",
       "      <td>0</td>\n",
       "      <td>0</td>\n",
       "      <td>0</td>\n",
       "      <td>0</td>\n",
       "      <td>0</td>\n",
       "      <td>0</td>\n",
       "      <td>0</td>\n",
       "      <td>...</td>\n",
       "      <td>0.4</td>\n",
       "      <td>0.6</td>\n",
       "      <td>0.0</td>\n",
       "      <td>0.4</td>\n",
       "      <td>0.6</td>\n",
       "      <td>0.4</td>\n",
       "      <td>0.4</td>\n",
       "      <td>0.2</td>\n",
       "      <td>0.6</td>\n",
       "      <td>0.4</td>\n",
       "    </tr>\n",
       "    <tr>\n",
       "      <th>4</th>\n",
       "      <td>0</td>\n",
       "      <td>0</td>\n",
       "      <td>0</td>\n",
       "      <td>0</td>\n",
       "      <td>0</td>\n",
       "      <td>0</td>\n",
       "      <td>0</td>\n",
       "      <td>0</td>\n",
       "      <td>0</td>\n",
       "      <td>0</td>\n",
       "      <td>...</td>\n",
       "      <td>0.4</td>\n",
       "      <td>0.6</td>\n",
       "      <td>0.0</td>\n",
       "      <td>0.4</td>\n",
       "      <td>0.6</td>\n",
       "      <td>0.8</td>\n",
       "      <td>0.0</td>\n",
       "      <td>0.2</td>\n",
       "      <td>0.8</td>\n",
       "      <td>0.2</td>\n",
       "    </tr>\n",
       "  </tbody>\n",
       "</table>\n",
       "<p>5 rows × 133 columns</p>\n",
       "</div>"
      ],
      "text/plain": [
       "   1_antimage  2_axe  3_bane  4_bloodseeker  5_crystal_maiden  6_drow_ranger  \\\n",
       "0           0      0       0              0                 0              0   \n",
       "1           0      0       0             -1                 1              0   \n",
       "2           0      0       0              0                 0              0   \n",
       "3           0      0       0              0                 0              0   \n",
       "4           0      0       0              0                 0              0   \n",
       "\n",
       "   7_earthshaker  8_juggernaut  9_mirana  11_nevermore  ...  radiant_str  \\\n",
       "0              0             0         0             0  ...          0.2   \n",
       "1              0             0         0             0  ...          0.4   \n",
       "2              0             0         0             1  ...          0.2   \n",
       "3              0             0         0             0  ...          0.4   \n",
       "4              0             0         0             0  ...          0.4   \n",
       "\n",
       "   radiant_int  radiant_agi  radiant_melee  radiant_ranged  dire_str  \\\n",
       "0          0.4          0.4            0.2             0.8       0.2   \n",
       "1          0.4          0.2            0.4             0.6       0.4   \n",
       "2          0.2          0.6            0.4             0.6       0.6   \n",
       "3          0.6          0.0            0.4             0.6       0.4   \n",
       "4          0.6          0.0            0.4             0.6       0.8   \n",
       "\n",
       "   dire_int  dire_agi  dire_melee  dire_ranged  \n",
       "0       0.6       0.2         0.2          0.8  \n",
       "1       0.4       0.2         0.6          0.4  \n",
       "2       0.2       0.2         0.6          0.4  \n",
       "3       0.4       0.2         0.6          0.4  \n",
       "4       0.0       0.2         0.8          0.2  \n",
       "\n",
       "[5 rows x 133 columns]"
      ]
     },
     "execution_count": 12,
     "metadata": {},
     "output_type": "execute_result"
    }
   ],
   "source": [
    "x = api_data.iloc[:,2:]\n",
    "y = api_data[\"match_result\"]\n",
    "x.head()"
   ]
  },
  {
   "cell_type": "code",
   "execution_count": 13,
   "id": "f1545231",
   "metadata": {},
   "outputs": [
    {
     "name": "stdout",
     "output_type": "stream",
     "text": [
      "0        1\n",
      "1       -1\n",
      "2        1\n",
      "3        1\n",
      "4       -1\n",
      "        ..\n",
      "12381    1\n",
      "12382   -1\n",
      "12383   -1\n",
      "12384   -1\n",
      "12385    1\n",
      "Name: match_result, Length: 12386, dtype: int64\n"
     ]
    }
   ],
   "source": [
    "print(y)"
   ]
  },
  {
   "cell_type": "markdown",
   "id": "1b6e0500",
   "metadata": {},
   "source": [
    "# Split the data into test, validation and training sets\n",
    "\n",
    "We split the full dataset into a test set of 2000.  \n",
    "And a validation set of 2000.  \n",
    "The remainder is used for training.\n",
    "\n",
    "Names:\n",
    "* x_test & y_test\n",
    "* x_val & y_val\n",
    "* x_train & y_train"
   ]
  },
  {
   "cell_type": "code",
   "execution_count": 14,
   "id": "24dfcd5c",
   "metadata": {},
   "outputs": [
    {
     "name": "stdout",
     "output_type": "stream",
     "text": [
      "<class 'pandas.core.frame.DataFrame'>\n",
      "Int64Index: 8386 entries, 9004 to 835\n",
      "Columns: 133 entries, 1_antimage to dire_ranged\n",
      "dtypes: float64(10), int64(123)\n",
      "memory usage: 8.6 MB\n",
      "<class 'pandas.core.frame.DataFrame'>\n",
      "Int64Index: 2000 entries, 289 to 6565\n",
      "Columns: 133 entries, 1_antimage to dire_ranged\n",
      "dtypes: float64(10), int64(123)\n",
      "memory usage: 2.0 MB\n",
      "<class 'pandas.core.frame.DataFrame'>\n",
      "Int64Index: 2000 entries, 10305 to 10726\n",
      "Columns: 133 entries, 1_antimage to dire_ranged\n",
      "dtypes: float64(10), int64(123)\n",
      "memory usage: 2.0 MB\n"
     ]
    }
   ],
   "source": [
    "x_train_temp, x_test, y_train_temp, y_test = train_test_split(x, y, test_size=2000)\n",
    "x_train, x_val, y_train, y_val = train_test_split(x_train_temp, y_train_temp, test_size=2000)\n",
    "x_train.info()\n",
    "x_test.info()\n",
    "x_val.info()"
   ]
  },
  {
   "cell_type": "markdown",
   "id": "0bd4171e",
   "metadata": {},
   "source": [
    "# Create a linear classification model and run grid search cross validation\n",
    "\n",
    "We run grid search to find the optimal hyperparameter C.  \n",
    "Once we have this optimal C we run our validation set to get a accuracy score for this model."
   ]
  },
  {
   "cell_type": "code",
   "execution_count": 15,
   "id": "f02ec51a",
   "metadata": {},
   "outputs": [
    {
     "name": "stdout",
     "output_type": "stream",
     "text": [
      "Best parameters set found on training set:\n",
      "\n",
      "{'C': 1, 'kernel': 'linear'}\n",
      "\n",
      "Grid scores on training set:\n",
      "\n",
      "0.547 for {'C': 1, 'kernel': 'linear'}\n",
      "0.547 for {'C': 2, 'kernel': 'linear'}\n",
      "0.546 for {'C': 3, 'kernel': 'linear'}\n",
      "0.546 for {'C': 4, 'kernel': 'linear'}\n",
      "0.545 for {'C': 5, 'kernel': 'linear'}\n",
      "0.546 for {'C': 6, 'kernel': 'linear'}\n",
      "0.545 for {'C': 7, 'kernel': 'linear'}\n",
      "0.545 for {'C': 8, 'kernel': 'linear'}\n",
      "0.546 for {'C': 9, 'kernel': 'linear'}\n",
      "0.546 for {'C': 10, 'kernel': 'linear'}\n",
      "0.546 for {'C': 100, 'kernel': 'linear'}\n",
      "0.546 for {'C': 1000, 'kernel': 'linear'}\n"
     ]
    }
   ],
   "source": [
    "linear = SVC()\n",
    "param_grid_linear = {\"kernel\": [\"linear\"], \"C\": [1, 2, 3, 4, 5, 6, 7, 8, 9, 10, 100, 1000]}\n",
    "grid_linear = GridSearchCV(linear, param_grid_linear, scoring=\"accuracy\")\n",
    "grid_linear.fit(x_train, y_train)\n",
    "\n",
    "print(\"Best parameters set found on training set:\")\n",
    "print()\n",
    "print(grid_linear.best_params_)\n",
    "print()\n",
    "print(\"Grid scores on training set:\")\n",
    "print()\n",
    "means_linear = grid_linear.cv_results_[\"mean_test_score\"]\n",
    "for mean, params in zip(means_linear, grid_linear.cv_results_[\"params\"]):\n",
    "    print(\"%0.3f for %r\" % (mean, params))"
   ]
  },
  {
   "cell_type": "code",
   "execution_count": 16,
   "id": "c93d62d1",
   "metadata": {},
   "outputs": [
    {
     "name": "stdout",
     "output_type": "stream",
     "text": [
      "Detailed classification report:\n",
      "\n",
      "LINEAR MODEL ACCURACY: 0.5455\n",
      "\n"
     ]
    }
   ],
   "source": [
    "print(\"Detailed classification report:\")\n",
    "print()\n",
    "y_true_linear, y_pred_linear = y_val, grid_linear.predict(x_val)\n",
    "accuracy_linear = accuracy_score(y_true_linear, y_pred_linear)\n",
    "print(\"LINEAR MODEL ACCURACY: \" + str(accuracy_linear))\n",
    "# print(classification_report(y_true_linear, y_pred_linear))\n",
    "print()"
   ]
  },
  {
   "cell_type": "markdown",
   "id": "8024e39e",
   "metadata": {},
   "source": [
    "# Create a kNN classification model and run grid search cross validation\n",
    "\n",
    "We run grid search to find the optimal hyperparameter k.  \n",
    "Once we have this optimal k we run our validation set to get a accuracy score for this model."
   ]
  },
  {
   "cell_type": "code",
   "execution_count": 17,
   "id": "95a7e5c1",
   "metadata": {},
   "outputs": [
    {
     "name": "stdout",
     "output_type": "stream",
     "text": [
      "Best parameters set found on training set:\n",
      "\n",
      "{'n_neighbors': 101}\n",
      "\n",
      "Grid scores on training set:\n",
      "\n",
      "0.509 for {'n_neighbors': 1}\n",
      "0.497 for {'n_neighbors': 2}\n",
      "0.506 for {'n_neighbors': 3}\n",
      "0.500 for {'n_neighbors': 4}\n",
      "0.508 for {'n_neighbors': 5}\n",
      "0.497 for {'n_neighbors': 6}\n",
      "0.501 for {'n_neighbors': 7}\n",
      "0.503 for {'n_neighbors': 8}\n",
      "0.511 for {'n_neighbors': 9}\n",
      "0.509 for {'n_neighbors': 10}\n",
      "0.515 for {'n_neighbors': 11}\n",
      "0.514 for {'n_neighbors': 12}\n",
      "0.517 for {'n_neighbors': 13}\n",
      "0.515 for {'n_neighbors': 14}\n",
      "0.512 for {'n_neighbors': 15}\n",
      "0.516 for {'n_neighbors': 16}\n",
      "0.516 for {'n_neighbors': 17}\n",
      "0.513 for {'n_neighbors': 18}\n",
      "0.514 for {'n_neighbors': 19}\n",
      "0.513 for {'n_neighbors': 20}\n",
      "0.515 for {'n_neighbors': 21}\n",
      "0.515 for {'n_neighbors': 22}\n",
      "0.514 for {'n_neighbors': 23}\n",
      "0.511 for {'n_neighbors': 24}\n",
      "0.516 for {'n_neighbors': 25}\n",
      "0.515 for {'n_neighbors': 26}\n",
      "0.517 for {'n_neighbors': 27}\n",
      "0.518 for {'n_neighbors': 28}\n",
      "0.521 for {'n_neighbors': 29}\n",
      "0.518 for {'n_neighbors': 30}\n",
      "0.517 for {'n_neighbors': 31}\n",
      "0.518 for {'n_neighbors': 32}\n",
      "0.523 for {'n_neighbors': 33}\n",
      "0.522 for {'n_neighbors': 34}\n",
      "0.522 for {'n_neighbors': 35}\n",
      "0.522 for {'n_neighbors': 36}\n",
      "0.521 for {'n_neighbors': 37}\n",
      "0.518 for {'n_neighbors': 38}\n",
      "0.519 for {'n_neighbors': 39}\n",
      "0.515 for {'n_neighbors': 40}\n",
      "0.516 for {'n_neighbors': 41}\n",
      "0.517 for {'n_neighbors': 42}\n",
      "0.518 for {'n_neighbors': 43}\n",
      "0.516 for {'n_neighbors': 44}\n",
      "0.521 for {'n_neighbors': 45}\n",
      "0.519 for {'n_neighbors': 46}\n",
      "0.519 for {'n_neighbors': 47}\n",
      "0.518 for {'n_neighbors': 48}\n",
      "0.519 for {'n_neighbors': 49}\n",
      "0.519 for {'n_neighbors': 50}\n",
      "0.521 for {'n_neighbors': 51}\n",
      "0.514 for {'n_neighbors': 52}\n",
      "0.517 for {'n_neighbors': 53}\n",
      "0.518 for {'n_neighbors': 54}\n",
      "0.522 for {'n_neighbors': 55}\n",
      "0.520 for {'n_neighbors': 56}\n",
      "0.521 for {'n_neighbors': 57}\n",
      "0.518 for {'n_neighbors': 58}\n",
      "0.521 for {'n_neighbors': 59}\n",
      "0.520 for {'n_neighbors': 60}\n",
      "0.521 for {'n_neighbors': 61}\n",
      "0.520 for {'n_neighbors': 62}\n",
      "0.519 for {'n_neighbors': 63}\n",
      "0.521 for {'n_neighbors': 64}\n",
      "0.523 for {'n_neighbors': 65}\n",
      "0.521 for {'n_neighbors': 66}\n",
      "0.523 for {'n_neighbors': 67}\n",
      "0.520 for {'n_neighbors': 68}\n",
      "0.521 for {'n_neighbors': 69}\n",
      "0.520 for {'n_neighbors': 70}\n",
      "0.520 for {'n_neighbors': 71}\n",
      "0.521 for {'n_neighbors': 72}\n",
      "0.520 for {'n_neighbors': 73}\n",
      "0.519 for {'n_neighbors': 74}\n",
      "0.522 for {'n_neighbors': 75}\n",
      "0.519 for {'n_neighbors': 76}\n",
      "0.522 for {'n_neighbors': 77}\n",
      "0.520 for {'n_neighbors': 78}\n",
      "0.520 for {'n_neighbors': 79}\n",
      "0.519 for {'n_neighbors': 80}\n",
      "0.522 for {'n_neighbors': 81}\n",
      "0.523 for {'n_neighbors': 82}\n",
      "0.527 for {'n_neighbors': 83}\n",
      "0.526 for {'n_neighbors': 84}\n",
      "0.525 for {'n_neighbors': 85}\n",
      "0.527 for {'n_neighbors': 86}\n",
      "0.525 for {'n_neighbors': 87}\n",
      "0.528 for {'n_neighbors': 88}\n",
      "0.525 for {'n_neighbors': 89}\n",
      "0.526 for {'n_neighbors': 90}\n",
      "0.523 for {'n_neighbors': 91}\n",
      "0.519 for {'n_neighbors': 92}\n",
      "0.522 for {'n_neighbors': 93}\n",
      "0.522 for {'n_neighbors': 94}\n",
      "0.525 for {'n_neighbors': 95}\n",
      "0.525 for {'n_neighbors': 96}\n",
      "0.525 for {'n_neighbors': 97}\n",
      "0.526 for {'n_neighbors': 98}\n",
      "0.528 for {'n_neighbors': 99}\n",
      "0.527 for {'n_neighbors': 100}\n",
      "0.528 for {'n_neighbors': 101}\n"
     ]
    }
   ],
   "source": [
    "knn = KNeighborsClassifier()\n",
    "k_range = list(range(1, 102))\n",
    "param_grid_knn = dict(n_neighbors = k_range)\n",
    "\n",
    "grid_knn = GridSearchCV(knn, param_grid_knn, scoring=\"accuracy\")\n",
    "grid_knn.fit(x_train, y_train)\n",
    "\n",
    "print(\"Best parameters set found on training set:\")\n",
    "print()\n",
    "print(grid_knn.best_params_)\n",
    "print()\n",
    "print(\"Grid scores on training set:\")\n",
    "print()\n",
    "means_knn = grid_knn.cv_results_[\"mean_test_score\"]\n",
    "for mean, params in zip(means_knn, grid_knn.cv_results_[\"params\"]):\n",
    "    print(\"%0.3f for %r\" % (mean, params))"
   ]
  },
  {
   "cell_type": "code",
   "execution_count": 18,
   "id": "10c9b182",
   "metadata": {},
   "outputs": [
    {
     "name": "stdout",
     "output_type": "stream",
     "text": [
      "Detailed classification report:\n",
      "\n",
      "KNN MODEL ACCURACY: 0.53\n",
      "\n"
     ]
    }
   ],
   "source": [
    "print(\"Detailed classification report:\")\n",
    "print()\n",
    "y_true_knn, y_pred_knn = y_val, grid_knn.predict(x_val)\n",
    "# print(classification_report(y_true_knn, y_pred_knn))\n",
    "accuracy_knn = accuracy_score(y_true_knn, y_pred_knn)\n",
    "print(\"KNN MODEL ACCURACY: \" + str(accuracy_knn))\n",
    "print()"
   ]
  },
  {
   "cell_type": "markdown",
   "id": "a4e74a11",
   "metadata": {},
   "source": [
    "# Create a decision tree classification model and run grid search cross validation\n",
    "\n",
    "We run grid search to find the optimal hyperparameters \"criterion\" and \"splitter\".  \n",
    "Once we have these optimal hyperparameters we run our validation set to get a accuracy score for this model."
   ]
  },
  {
   "cell_type": "code",
   "execution_count": 19,
   "id": "28fe495f",
   "metadata": {},
   "outputs": [
    {
     "name": "stdout",
     "output_type": "stream",
     "text": [
      "Best parameters set found on training set:\n",
      "\n",
      "{'criterion': 'entropy', 'splitter': 'best'}\n",
      "\n",
      "Grid scores on training set:\n",
      "\n",
      "0.510 for {'criterion': 'gini', 'splitter': 'best'}\n",
      "0.507 for {'criterion': 'gini', 'splitter': 'random'}\n",
      "0.512 for {'criterion': 'entropy', 'splitter': 'best'}\n",
      "0.511 for {'criterion': 'entropy', 'splitter': 'random'}\n"
     ]
    }
   ],
   "source": [
    "decision_tree = DecisionTreeClassifier()\n",
    "param_grid_decision_tree = {\"criterion\": [\"gini\", \"entropy\"], \"splitter\": [\"best\", \"random\"]}\n",
    "\n",
    "grid_decision_tree = GridSearchCV(decision_tree, param_grid_decision_tree, scoring=\"accuracy\")\n",
    "grid_decision_tree.fit(x_train, y_train)\n",
    "\n",
    "print(\"Best parameters set found on training set:\")\n",
    "print()\n",
    "print(grid_decision_tree.best_params_)\n",
    "print()\n",
    "print(\"Grid scores on training set:\")\n",
    "print()\n",
    "means_decision_tree = grid_decision_tree.cv_results_[\"mean_test_score\"]\n",
    "for mean, params in zip(means_decision_tree, grid_decision_tree.cv_results_[\"params\"]):\n",
    "    print(\"%0.3f for %r\" % (mean, params))"
   ]
  },
  {
   "cell_type": "code",
   "execution_count": 20,
   "id": "6d829a86",
   "metadata": {},
   "outputs": [
    {
     "name": "stdout",
     "output_type": "stream",
     "text": [
      "Detailed classification report:\n",
      "\n",
      "DECISION TREE MODEL ACCURACY: 0.517\n",
      "\n"
     ]
    }
   ],
   "source": [
    "print(\"Detailed classification report:\")\n",
    "print()\n",
    "y_true_decision_tree, y_pred_decision_tree = y_val, grid_decision_tree.predict(x_val)\n",
    "# print(classification_report(y_true_dt, y_pred_dt))\n",
    "accuracy_decision_tree = accuracy_score(y_true_decision_tree, y_pred_decision_tree)\n",
    "print(\"DECISION TREE MODEL ACCURACY: \" + str(accuracy_decision_tree))\n",
    "print()"
   ]
  },
  {
   "cell_type": "markdown",
   "id": "f59aca13",
   "metadata": {},
   "source": [
    "# Create a random forest classification model and run grid search cross validation\n",
    "\n"
   ]
  },
  {
   "cell_type": "code",
   "execution_count": 21,
   "id": "573ce086",
   "metadata": {},
   "outputs": [],
   "source": [
    "# Number of trees in random forest.\n",
    "n_estimators = [int(x) for x in numpy.linspace(start = 50, stop = 55, num = 6)]\n",
    "# Number of features to consider at every split.\n",
    "max_features = ['auto', 'sqrt']\n",
    "# Maximum number of levels in tree.\n",
    "max_depth = [2,4]\n",
    "# Minimum number of samples required to split a node.\n",
    "min_samples_split = [2, 5]\n",
    "# Minimum number of samples required at each leaf node.\n",
    "min_samples_leaf = [1, 2]\n",
    "# Method of selecting samples for training each tree.\n",
    "bootstrap = [True, False]"
   ]
  },
  {
   "cell_type": "code",
   "execution_count": 22,
   "id": "43dcae5d",
   "metadata": {},
   "outputs": [],
   "source": [
    "# Create the param grid.\n",
    "param_grid_random_forest = {\"n_estimators\": n_estimators,\n",
    "                            \"max_features\": max_features,\n",
    "                            \"max_depth\": max_depth,\n",
    "                            \"min_samples_split\": min_samples_split,\n",
    "                            \"min_samples_leaf\": min_samples_leaf,\n",
    "                            \"bootstrap\": bootstrap}"
   ]
  },
  {
   "cell_type": "code",
   "execution_count": 23,
   "id": "20cc7b6d",
   "metadata": {},
   "outputs": [],
   "source": [
    "random_forest = RandomForestClassifier()"
   ]
  },
  {
   "cell_type": "code",
   "execution_count": 24,
   "id": "0a44b919",
   "metadata": {},
   "outputs": [],
   "source": [
    "grid_random_forest = GridSearchCV(random_forest, param_grid_random_forest, scoring=\"accuracy\")"
   ]
  },
  {
   "cell_type": "code",
   "execution_count": 25,
   "id": "7217c6d1",
   "metadata": {},
   "outputs": [
    {
     "data": {
      "text/plain": [
       "GridSearchCV(estimator=RandomForestClassifier(),\n",
       "             param_grid={'bootstrap': [True, False], 'max_depth': [2, 4],\n",
       "                         'max_features': ['auto', 'sqrt'],\n",
       "                         'min_samples_leaf': [1, 2],\n",
       "                         'min_samples_split': [2, 5],\n",
       "                         'n_estimators': [50, 51, 52, 53, 54, 55]},\n",
       "             scoring='accuracy')"
      ]
     },
     "execution_count": 25,
     "metadata": {},
     "output_type": "execute_result"
    }
   ],
   "source": [
    "grid_random_forest.fit(x_train, y_train)"
   ]
  },
  {
   "cell_type": "code",
   "execution_count": 26,
   "id": "5e013629",
   "metadata": {},
   "outputs": [
    {
     "name": "stdout",
     "output_type": "stream",
     "text": [
      "Best parameters set found on training set:\n",
      "\n",
      "{'bootstrap': True, 'max_depth': 4, 'max_features': 'auto', 'min_samples_leaf': 1, 'min_samples_split': 5, 'n_estimators': 54}\n",
      "\n",
      "Grid scores on training set:\n",
      "\n",
      "0.522 for {'bootstrap': True, 'max_depth': 2, 'max_features': 'auto', 'min_samples_leaf': 1, 'min_samples_split': 2, 'n_estimators': 50}\n",
      "0.521 for {'bootstrap': True, 'max_depth': 2, 'max_features': 'auto', 'min_samples_leaf': 1, 'min_samples_split': 2, 'n_estimators': 51}\n",
      "0.521 for {'bootstrap': True, 'max_depth': 2, 'max_features': 'auto', 'min_samples_leaf': 1, 'min_samples_split': 2, 'n_estimators': 52}\n",
      "0.521 for {'bootstrap': True, 'max_depth': 2, 'max_features': 'auto', 'min_samples_leaf': 1, 'min_samples_split': 2, 'n_estimators': 53}\n",
      "0.522 for {'bootstrap': True, 'max_depth': 2, 'max_features': 'auto', 'min_samples_leaf': 1, 'min_samples_split': 2, 'n_estimators': 54}\n",
      "0.522 for {'bootstrap': True, 'max_depth': 2, 'max_features': 'auto', 'min_samples_leaf': 1, 'min_samples_split': 2, 'n_estimators': 55}\n",
      "0.522 for {'bootstrap': True, 'max_depth': 2, 'max_features': 'auto', 'min_samples_leaf': 1, 'min_samples_split': 5, 'n_estimators': 50}\n",
      "0.522 for {'bootstrap': True, 'max_depth': 2, 'max_features': 'auto', 'min_samples_leaf': 1, 'min_samples_split': 5, 'n_estimators': 51}\n",
      "0.522 for {'bootstrap': True, 'max_depth': 2, 'max_features': 'auto', 'min_samples_leaf': 1, 'min_samples_split': 5, 'n_estimators': 52}\n",
      "0.522 for {'bootstrap': True, 'max_depth': 2, 'max_features': 'auto', 'min_samples_leaf': 1, 'min_samples_split': 5, 'n_estimators': 53}\n",
      "0.521 for {'bootstrap': True, 'max_depth': 2, 'max_features': 'auto', 'min_samples_leaf': 1, 'min_samples_split': 5, 'n_estimators': 54}\n",
      "0.521 for {'bootstrap': True, 'max_depth': 2, 'max_features': 'auto', 'min_samples_leaf': 1, 'min_samples_split': 5, 'n_estimators': 55}\n",
      "0.520 for {'bootstrap': True, 'max_depth': 2, 'max_features': 'auto', 'min_samples_leaf': 2, 'min_samples_split': 2, 'n_estimators': 50}\n",
      "0.521 for {'bootstrap': True, 'max_depth': 2, 'max_features': 'auto', 'min_samples_leaf': 2, 'min_samples_split': 2, 'n_estimators': 51}\n",
      "0.522 for {'bootstrap': True, 'max_depth': 2, 'max_features': 'auto', 'min_samples_leaf': 2, 'min_samples_split': 2, 'n_estimators': 52}\n",
      "0.521 for {'bootstrap': True, 'max_depth': 2, 'max_features': 'auto', 'min_samples_leaf': 2, 'min_samples_split': 2, 'n_estimators': 53}\n",
      "0.521 for {'bootstrap': True, 'max_depth': 2, 'max_features': 'auto', 'min_samples_leaf': 2, 'min_samples_split': 2, 'n_estimators': 54}\n",
      "0.521 for {'bootstrap': True, 'max_depth': 2, 'max_features': 'auto', 'min_samples_leaf': 2, 'min_samples_split': 2, 'n_estimators': 55}\n",
      "0.521 for {'bootstrap': True, 'max_depth': 2, 'max_features': 'auto', 'min_samples_leaf': 2, 'min_samples_split': 5, 'n_estimators': 50}\n",
      "0.521 for {'bootstrap': True, 'max_depth': 2, 'max_features': 'auto', 'min_samples_leaf': 2, 'min_samples_split': 5, 'n_estimators': 51}\n",
      "0.521 for {'bootstrap': True, 'max_depth': 2, 'max_features': 'auto', 'min_samples_leaf': 2, 'min_samples_split': 5, 'n_estimators': 52}\n",
      "0.521 for {'bootstrap': True, 'max_depth': 2, 'max_features': 'auto', 'min_samples_leaf': 2, 'min_samples_split': 5, 'n_estimators': 53}\n",
      "0.522 for {'bootstrap': True, 'max_depth': 2, 'max_features': 'auto', 'min_samples_leaf': 2, 'min_samples_split': 5, 'n_estimators': 54}\n",
      "0.522 for {'bootstrap': True, 'max_depth': 2, 'max_features': 'auto', 'min_samples_leaf': 2, 'min_samples_split': 5, 'n_estimators': 55}\n",
      "0.519 for {'bootstrap': True, 'max_depth': 2, 'max_features': 'sqrt', 'min_samples_leaf': 1, 'min_samples_split': 2, 'n_estimators': 50}\n",
      "0.521 for {'bootstrap': True, 'max_depth': 2, 'max_features': 'sqrt', 'min_samples_leaf': 1, 'min_samples_split': 2, 'n_estimators': 51}\n",
      "0.520 for {'bootstrap': True, 'max_depth': 2, 'max_features': 'sqrt', 'min_samples_leaf': 1, 'min_samples_split': 2, 'n_estimators': 52}\n",
      "0.521 for {'bootstrap': True, 'max_depth': 2, 'max_features': 'sqrt', 'min_samples_leaf': 1, 'min_samples_split': 2, 'n_estimators': 53}\n",
      "0.522 for {'bootstrap': True, 'max_depth': 2, 'max_features': 'sqrt', 'min_samples_leaf': 1, 'min_samples_split': 2, 'n_estimators': 54}\n",
      "0.521 for {'bootstrap': True, 'max_depth': 2, 'max_features': 'sqrt', 'min_samples_leaf': 1, 'min_samples_split': 2, 'n_estimators': 55}\n",
      "0.521 for {'bootstrap': True, 'max_depth': 2, 'max_features': 'sqrt', 'min_samples_leaf': 1, 'min_samples_split': 5, 'n_estimators': 50}\n",
      "0.522 for {'bootstrap': True, 'max_depth': 2, 'max_features': 'sqrt', 'min_samples_leaf': 1, 'min_samples_split': 5, 'n_estimators': 51}\n",
      "0.521 for {'bootstrap': True, 'max_depth': 2, 'max_features': 'sqrt', 'min_samples_leaf': 1, 'min_samples_split': 5, 'n_estimators': 52}\n",
      "0.521 for {'bootstrap': True, 'max_depth': 2, 'max_features': 'sqrt', 'min_samples_leaf': 1, 'min_samples_split': 5, 'n_estimators': 53}\n",
      "0.521 for {'bootstrap': True, 'max_depth': 2, 'max_features': 'sqrt', 'min_samples_leaf': 1, 'min_samples_split': 5, 'n_estimators': 54}\n",
      "0.521 for {'bootstrap': True, 'max_depth': 2, 'max_features': 'sqrt', 'min_samples_leaf': 1, 'min_samples_split': 5, 'n_estimators': 55}\n",
      "0.521 for {'bootstrap': True, 'max_depth': 2, 'max_features': 'sqrt', 'min_samples_leaf': 2, 'min_samples_split': 2, 'n_estimators': 50}\n",
      "0.520 for {'bootstrap': True, 'max_depth': 2, 'max_features': 'sqrt', 'min_samples_leaf': 2, 'min_samples_split': 2, 'n_estimators': 51}\n",
      "0.520 for {'bootstrap': True, 'max_depth': 2, 'max_features': 'sqrt', 'min_samples_leaf': 2, 'min_samples_split': 2, 'n_estimators': 52}\n",
      "0.521 for {'bootstrap': True, 'max_depth': 2, 'max_features': 'sqrt', 'min_samples_leaf': 2, 'min_samples_split': 2, 'n_estimators': 53}\n",
      "0.521 for {'bootstrap': True, 'max_depth': 2, 'max_features': 'sqrt', 'min_samples_leaf': 2, 'min_samples_split': 2, 'n_estimators': 54}\n",
      "0.521 for {'bootstrap': True, 'max_depth': 2, 'max_features': 'sqrt', 'min_samples_leaf': 2, 'min_samples_split': 2, 'n_estimators': 55}\n",
      "0.522 for {'bootstrap': True, 'max_depth': 2, 'max_features': 'sqrt', 'min_samples_leaf': 2, 'min_samples_split': 5, 'n_estimators': 50}\n",
      "0.522 for {'bootstrap': True, 'max_depth': 2, 'max_features': 'sqrt', 'min_samples_leaf': 2, 'min_samples_split': 5, 'n_estimators': 51}\n",
      "0.520 for {'bootstrap': True, 'max_depth': 2, 'max_features': 'sqrt', 'min_samples_leaf': 2, 'min_samples_split': 5, 'n_estimators': 52}\n",
      "0.521 for {'bootstrap': True, 'max_depth': 2, 'max_features': 'sqrt', 'min_samples_leaf': 2, 'min_samples_split': 5, 'n_estimators': 53}\n",
      "0.522 for {'bootstrap': True, 'max_depth': 2, 'max_features': 'sqrt', 'min_samples_leaf': 2, 'min_samples_split': 5, 'n_estimators': 54}\n",
      "0.522 for {'bootstrap': True, 'max_depth': 2, 'max_features': 'sqrt', 'min_samples_leaf': 2, 'min_samples_split': 5, 'n_estimators': 55}\n",
      "0.523 for {'bootstrap': True, 'max_depth': 4, 'max_features': 'auto', 'min_samples_leaf': 1, 'min_samples_split': 2, 'n_estimators': 50}\n",
      "0.521 for {'bootstrap': True, 'max_depth': 4, 'max_features': 'auto', 'min_samples_leaf': 1, 'min_samples_split': 2, 'n_estimators': 51}\n",
      "0.520 for {'bootstrap': True, 'max_depth': 4, 'max_features': 'auto', 'min_samples_leaf': 1, 'min_samples_split': 2, 'n_estimators': 52}\n",
      "0.522 for {'bootstrap': True, 'max_depth': 4, 'max_features': 'auto', 'min_samples_leaf': 1, 'min_samples_split': 2, 'n_estimators': 53}\n",
      "0.522 for {'bootstrap': True, 'max_depth': 4, 'max_features': 'auto', 'min_samples_leaf': 1, 'min_samples_split': 2, 'n_estimators': 54}\n",
      "0.519 for {'bootstrap': True, 'max_depth': 4, 'max_features': 'auto', 'min_samples_leaf': 1, 'min_samples_split': 2, 'n_estimators': 55}\n",
      "0.520 for {'bootstrap': True, 'max_depth': 4, 'max_features': 'auto', 'min_samples_leaf': 1, 'min_samples_split': 5, 'n_estimators': 50}\n",
      "0.520 for {'bootstrap': True, 'max_depth': 4, 'max_features': 'auto', 'min_samples_leaf': 1, 'min_samples_split': 5, 'n_estimators': 51}\n",
      "0.519 for {'bootstrap': True, 'max_depth': 4, 'max_features': 'auto', 'min_samples_leaf': 1, 'min_samples_split': 5, 'n_estimators': 52}\n",
      "0.525 for {'bootstrap': True, 'max_depth': 4, 'max_features': 'auto', 'min_samples_leaf': 1, 'min_samples_split': 5, 'n_estimators': 53}\n",
      "0.526 for {'bootstrap': True, 'max_depth': 4, 'max_features': 'auto', 'min_samples_leaf': 1, 'min_samples_split': 5, 'n_estimators': 54}\n",
      "0.519 for {'bootstrap': True, 'max_depth': 4, 'max_features': 'auto', 'min_samples_leaf': 1, 'min_samples_split': 5, 'n_estimators': 55}\n",
      "0.522 for {'bootstrap': True, 'max_depth': 4, 'max_features': 'auto', 'min_samples_leaf': 2, 'min_samples_split': 2, 'n_estimators': 50}\n",
      "0.519 for {'bootstrap': True, 'max_depth': 4, 'max_features': 'auto', 'min_samples_leaf': 2, 'min_samples_split': 2, 'n_estimators': 51}\n",
      "0.521 for {'bootstrap': True, 'max_depth': 4, 'max_features': 'auto', 'min_samples_leaf': 2, 'min_samples_split': 2, 'n_estimators': 52}\n",
      "0.525 for {'bootstrap': True, 'max_depth': 4, 'max_features': 'auto', 'min_samples_leaf': 2, 'min_samples_split': 2, 'n_estimators': 53}\n",
      "0.522 for {'bootstrap': True, 'max_depth': 4, 'max_features': 'auto', 'min_samples_leaf': 2, 'min_samples_split': 2, 'n_estimators': 54}\n",
      "0.521 for {'bootstrap': True, 'max_depth': 4, 'max_features': 'auto', 'min_samples_leaf': 2, 'min_samples_split': 2, 'n_estimators': 55}\n",
      "0.520 for {'bootstrap': True, 'max_depth': 4, 'max_features': 'auto', 'min_samples_leaf': 2, 'min_samples_split': 5, 'n_estimators': 50}\n",
      "0.521 for {'bootstrap': True, 'max_depth': 4, 'max_features': 'auto', 'min_samples_leaf': 2, 'min_samples_split': 5, 'n_estimators': 51}\n",
      "0.523 for {'bootstrap': True, 'max_depth': 4, 'max_features': 'auto', 'min_samples_leaf': 2, 'min_samples_split': 5, 'n_estimators': 52}\n",
      "0.523 for {'bootstrap': True, 'max_depth': 4, 'max_features': 'auto', 'min_samples_leaf': 2, 'min_samples_split': 5, 'n_estimators': 53}\n",
      "0.517 for {'bootstrap': True, 'max_depth': 4, 'max_features': 'auto', 'min_samples_leaf': 2, 'min_samples_split': 5, 'n_estimators': 54}\n",
      "0.523 for {'bootstrap': True, 'max_depth': 4, 'max_features': 'auto', 'min_samples_leaf': 2, 'min_samples_split': 5, 'n_estimators': 55}\n",
      "0.522 for {'bootstrap': True, 'max_depth': 4, 'max_features': 'sqrt', 'min_samples_leaf': 1, 'min_samples_split': 2, 'n_estimators': 50}\n",
      "0.521 for {'bootstrap': True, 'max_depth': 4, 'max_features': 'sqrt', 'min_samples_leaf': 1, 'min_samples_split': 2, 'n_estimators': 51}\n",
      "0.523 for {'bootstrap': True, 'max_depth': 4, 'max_features': 'sqrt', 'min_samples_leaf': 1, 'min_samples_split': 2, 'n_estimators': 52}\n",
      "0.521 for {'bootstrap': True, 'max_depth': 4, 'max_features': 'sqrt', 'min_samples_leaf': 1, 'min_samples_split': 2, 'n_estimators': 53}\n",
      "0.522 for {'bootstrap': True, 'max_depth': 4, 'max_features': 'sqrt', 'min_samples_leaf': 1, 'min_samples_split': 2, 'n_estimators': 54}\n",
      "0.524 for {'bootstrap': True, 'max_depth': 4, 'max_features': 'sqrt', 'min_samples_leaf': 1, 'min_samples_split': 2, 'n_estimators': 55}\n",
      "0.518 for {'bootstrap': True, 'max_depth': 4, 'max_features': 'sqrt', 'min_samples_leaf': 1, 'min_samples_split': 5, 'n_estimators': 50}\n",
      "0.525 for {'bootstrap': True, 'max_depth': 4, 'max_features': 'sqrt', 'min_samples_leaf': 1, 'min_samples_split': 5, 'n_estimators': 51}\n",
      "0.524 for {'bootstrap': True, 'max_depth': 4, 'max_features': 'sqrt', 'min_samples_leaf': 1, 'min_samples_split': 5, 'n_estimators': 52}\n",
      "0.525 for {'bootstrap': True, 'max_depth': 4, 'max_features': 'sqrt', 'min_samples_leaf': 1, 'min_samples_split': 5, 'n_estimators': 53}\n",
      "0.523 for {'bootstrap': True, 'max_depth': 4, 'max_features': 'sqrt', 'min_samples_leaf': 1, 'min_samples_split': 5, 'n_estimators': 54}\n",
      "0.521 for {'bootstrap': True, 'max_depth': 4, 'max_features': 'sqrt', 'min_samples_leaf': 1, 'min_samples_split': 5, 'n_estimators': 55}\n",
      "0.524 for {'bootstrap': True, 'max_depth': 4, 'max_features': 'sqrt', 'min_samples_leaf': 2, 'min_samples_split': 2, 'n_estimators': 50}\n",
      "0.519 for {'bootstrap': True, 'max_depth': 4, 'max_features': 'sqrt', 'min_samples_leaf': 2, 'min_samples_split': 2, 'n_estimators': 51}\n",
      "0.521 for {'bootstrap': True, 'max_depth': 4, 'max_features': 'sqrt', 'min_samples_leaf': 2, 'min_samples_split': 2, 'n_estimators': 52}\n",
      "0.523 for {'bootstrap': True, 'max_depth': 4, 'max_features': 'sqrt', 'min_samples_leaf': 2, 'min_samples_split': 2, 'n_estimators': 53}\n",
      "0.522 for {'bootstrap': True, 'max_depth': 4, 'max_features': 'sqrt', 'min_samples_leaf': 2, 'min_samples_split': 2, 'n_estimators': 54}\n",
      "0.521 for {'bootstrap': True, 'max_depth': 4, 'max_features': 'sqrt', 'min_samples_leaf': 2, 'min_samples_split': 2, 'n_estimators': 55}\n",
      "0.523 for {'bootstrap': True, 'max_depth': 4, 'max_features': 'sqrt', 'min_samples_leaf': 2, 'min_samples_split': 5, 'n_estimators': 50}\n",
      "0.523 for {'bootstrap': True, 'max_depth': 4, 'max_features': 'sqrt', 'min_samples_leaf': 2, 'min_samples_split': 5, 'n_estimators': 51}\n",
      "0.521 for {'bootstrap': True, 'max_depth': 4, 'max_features': 'sqrt', 'min_samples_leaf': 2, 'min_samples_split': 5, 'n_estimators': 52}\n",
      "0.521 for {'bootstrap': True, 'max_depth': 4, 'max_features': 'sqrt', 'min_samples_leaf': 2, 'min_samples_split': 5, 'n_estimators': 53}\n",
      "0.523 for {'bootstrap': True, 'max_depth': 4, 'max_features': 'sqrt', 'min_samples_leaf': 2, 'min_samples_split': 5, 'n_estimators': 54}\n",
      "0.520 for {'bootstrap': True, 'max_depth': 4, 'max_features': 'sqrt', 'min_samples_leaf': 2, 'min_samples_split': 5, 'n_estimators': 55}\n",
      "0.520 for {'bootstrap': False, 'max_depth': 2, 'max_features': 'auto', 'min_samples_leaf': 1, 'min_samples_split': 2, 'n_estimators': 50}\n",
      "0.521 for {'bootstrap': False, 'max_depth': 2, 'max_features': 'auto', 'min_samples_leaf': 1, 'min_samples_split': 2, 'n_estimators': 51}\n",
      "0.521 for {'bootstrap': False, 'max_depth': 2, 'max_features': 'auto', 'min_samples_leaf': 1, 'min_samples_split': 2, 'n_estimators': 52}\n",
      "0.520 for {'bootstrap': False, 'max_depth': 2, 'max_features': 'auto', 'min_samples_leaf': 1, 'min_samples_split': 2, 'n_estimators': 53}\n",
      "0.522 for {'bootstrap': False, 'max_depth': 2, 'max_features': 'auto', 'min_samples_leaf': 1, 'min_samples_split': 2, 'n_estimators': 54}\n",
      "0.520 for {'bootstrap': False, 'max_depth': 2, 'max_features': 'auto', 'min_samples_leaf': 1, 'min_samples_split': 2, 'n_estimators': 55}\n",
      "0.523 for {'bootstrap': False, 'max_depth': 2, 'max_features': 'auto', 'min_samples_leaf': 1, 'min_samples_split': 5, 'n_estimators': 50}\n",
      "0.521 for {'bootstrap': False, 'max_depth': 2, 'max_features': 'auto', 'min_samples_leaf': 1, 'min_samples_split': 5, 'n_estimators': 51}\n",
      "0.521 for {'bootstrap': False, 'max_depth': 2, 'max_features': 'auto', 'min_samples_leaf': 1, 'min_samples_split': 5, 'n_estimators': 52}\n",
      "0.521 for {'bootstrap': False, 'max_depth': 2, 'max_features': 'auto', 'min_samples_leaf': 1, 'min_samples_split': 5, 'n_estimators': 53}\n",
      "0.521 for {'bootstrap': False, 'max_depth': 2, 'max_features': 'auto', 'min_samples_leaf': 1, 'min_samples_split': 5, 'n_estimators': 54}\n",
      "0.521 for {'bootstrap': False, 'max_depth': 2, 'max_features': 'auto', 'min_samples_leaf': 1, 'min_samples_split': 5, 'n_estimators': 55}\n",
      "0.521 for {'bootstrap': False, 'max_depth': 2, 'max_features': 'auto', 'min_samples_leaf': 2, 'min_samples_split': 2, 'n_estimators': 50}\n",
      "0.522 for {'bootstrap': False, 'max_depth': 2, 'max_features': 'auto', 'min_samples_leaf': 2, 'min_samples_split': 2, 'n_estimators': 51}\n",
      "0.522 for {'bootstrap': False, 'max_depth': 2, 'max_features': 'auto', 'min_samples_leaf': 2, 'min_samples_split': 2, 'n_estimators': 52}\n",
      "0.522 for {'bootstrap': False, 'max_depth': 2, 'max_features': 'auto', 'min_samples_leaf': 2, 'min_samples_split': 2, 'n_estimators': 53}\n",
      "0.521 for {'bootstrap': False, 'max_depth': 2, 'max_features': 'auto', 'min_samples_leaf': 2, 'min_samples_split': 2, 'n_estimators': 54}\n",
      "0.521 for {'bootstrap': False, 'max_depth': 2, 'max_features': 'auto', 'min_samples_leaf': 2, 'min_samples_split': 2, 'n_estimators': 55}\n",
      "0.521 for {'bootstrap': False, 'max_depth': 2, 'max_features': 'auto', 'min_samples_leaf': 2, 'min_samples_split': 5, 'n_estimators': 50}\n",
      "0.522 for {'bootstrap': False, 'max_depth': 2, 'max_features': 'auto', 'min_samples_leaf': 2, 'min_samples_split': 5, 'n_estimators': 51}\n",
      "0.522 for {'bootstrap': False, 'max_depth': 2, 'max_features': 'auto', 'min_samples_leaf': 2, 'min_samples_split': 5, 'n_estimators': 52}\n",
      "0.522 for {'bootstrap': False, 'max_depth': 2, 'max_features': 'auto', 'min_samples_leaf': 2, 'min_samples_split': 5, 'n_estimators': 53}\n",
      "0.523 for {'bootstrap': False, 'max_depth': 2, 'max_features': 'auto', 'min_samples_leaf': 2, 'min_samples_split': 5, 'n_estimators': 54}\n",
      "0.520 for {'bootstrap': False, 'max_depth': 2, 'max_features': 'auto', 'min_samples_leaf': 2, 'min_samples_split': 5, 'n_estimators': 55}\n",
      "0.522 for {'bootstrap': False, 'max_depth': 2, 'max_features': 'sqrt', 'min_samples_leaf': 1, 'min_samples_split': 2, 'n_estimators': 50}\n",
      "0.521 for {'bootstrap': False, 'max_depth': 2, 'max_features': 'sqrt', 'min_samples_leaf': 1, 'min_samples_split': 2, 'n_estimators': 51}\n",
      "0.521 for {'bootstrap': False, 'max_depth': 2, 'max_features': 'sqrt', 'min_samples_leaf': 1, 'min_samples_split': 2, 'n_estimators': 52}\n",
      "0.522 for {'bootstrap': False, 'max_depth': 2, 'max_features': 'sqrt', 'min_samples_leaf': 1, 'min_samples_split': 2, 'n_estimators': 53}\n",
      "0.519 for {'bootstrap': False, 'max_depth': 2, 'max_features': 'sqrt', 'min_samples_leaf': 1, 'min_samples_split': 2, 'n_estimators': 54}\n",
      "0.521 for {'bootstrap': False, 'max_depth': 2, 'max_features': 'sqrt', 'min_samples_leaf': 1, 'min_samples_split': 2, 'n_estimators': 55}\n",
      "0.521 for {'bootstrap': False, 'max_depth': 2, 'max_features': 'sqrt', 'min_samples_leaf': 1, 'min_samples_split': 5, 'n_estimators': 50}\n",
      "0.521 for {'bootstrap': False, 'max_depth': 2, 'max_features': 'sqrt', 'min_samples_leaf': 1, 'min_samples_split': 5, 'n_estimators': 51}\n",
      "0.522 for {'bootstrap': False, 'max_depth': 2, 'max_features': 'sqrt', 'min_samples_leaf': 1, 'min_samples_split': 5, 'n_estimators': 52}\n",
      "0.522 for {'bootstrap': False, 'max_depth': 2, 'max_features': 'sqrt', 'min_samples_leaf': 1, 'min_samples_split': 5, 'n_estimators': 53}\n",
      "0.521 for {'bootstrap': False, 'max_depth': 2, 'max_features': 'sqrt', 'min_samples_leaf': 1, 'min_samples_split': 5, 'n_estimators': 54}\n",
      "0.520 for {'bootstrap': False, 'max_depth': 2, 'max_features': 'sqrt', 'min_samples_leaf': 1, 'min_samples_split': 5, 'n_estimators': 55}\n",
      "0.520 for {'bootstrap': False, 'max_depth': 2, 'max_features': 'sqrt', 'min_samples_leaf': 2, 'min_samples_split': 2, 'n_estimators': 50}\n",
      "0.522 for {'bootstrap': False, 'max_depth': 2, 'max_features': 'sqrt', 'min_samples_leaf': 2, 'min_samples_split': 2, 'n_estimators': 51}\n",
      "0.522 for {'bootstrap': False, 'max_depth': 2, 'max_features': 'sqrt', 'min_samples_leaf': 2, 'min_samples_split': 2, 'n_estimators': 52}\n",
      "0.521 for {'bootstrap': False, 'max_depth': 2, 'max_features': 'sqrt', 'min_samples_leaf': 2, 'min_samples_split': 2, 'n_estimators': 53}\n",
      "0.520 for {'bootstrap': False, 'max_depth': 2, 'max_features': 'sqrt', 'min_samples_leaf': 2, 'min_samples_split': 2, 'n_estimators': 54}\n",
      "0.521 for {'bootstrap': False, 'max_depth': 2, 'max_features': 'sqrt', 'min_samples_leaf': 2, 'min_samples_split': 2, 'n_estimators': 55}\n",
      "0.521 for {'bootstrap': False, 'max_depth': 2, 'max_features': 'sqrt', 'min_samples_leaf': 2, 'min_samples_split': 5, 'n_estimators': 50}\n",
      "0.522 for {'bootstrap': False, 'max_depth': 2, 'max_features': 'sqrt', 'min_samples_leaf': 2, 'min_samples_split': 5, 'n_estimators': 51}\n",
      "0.521 for {'bootstrap': False, 'max_depth': 2, 'max_features': 'sqrt', 'min_samples_leaf': 2, 'min_samples_split': 5, 'n_estimators': 52}\n",
      "0.520 for {'bootstrap': False, 'max_depth': 2, 'max_features': 'sqrt', 'min_samples_leaf': 2, 'min_samples_split': 5, 'n_estimators': 53}\n",
      "0.521 for {'bootstrap': False, 'max_depth': 2, 'max_features': 'sqrt', 'min_samples_leaf': 2, 'min_samples_split': 5, 'n_estimators': 54}\n",
      "0.519 for {'bootstrap': False, 'max_depth': 2, 'max_features': 'sqrt', 'min_samples_leaf': 2, 'min_samples_split': 5, 'n_estimators': 55}\n",
      "0.519 for {'bootstrap': False, 'max_depth': 4, 'max_features': 'auto', 'min_samples_leaf': 1, 'min_samples_split': 2, 'n_estimators': 50}\n",
      "0.516 for {'bootstrap': False, 'max_depth': 4, 'max_features': 'auto', 'min_samples_leaf': 1, 'min_samples_split': 2, 'n_estimators': 51}\n",
      "0.519 for {'bootstrap': False, 'max_depth': 4, 'max_features': 'auto', 'min_samples_leaf': 1, 'min_samples_split': 2, 'n_estimators': 52}\n",
      "0.518 for {'bootstrap': False, 'max_depth': 4, 'max_features': 'auto', 'min_samples_leaf': 1, 'min_samples_split': 2, 'n_estimators': 53}\n",
      "0.517 for {'bootstrap': False, 'max_depth': 4, 'max_features': 'auto', 'min_samples_leaf': 1, 'min_samples_split': 2, 'n_estimators': 54}\n",
      "0.519 for {'bootstrap': False, 'max_depth': 4, 'max_features': 'auto', 'min_samples_leaf': 1, 'min_samples_split': 2, 'n_estimators': 55}\n",
      "0.521 for {'bootstrap': False, 'max_depth': 4, 'max_features': 'auto', 'min_samples_leaf': 1, 'min_samples_split': 5, 'n_estimators': 50}\n",
      "0.518 for {'bootstrap': False, 'max_depth': 4, 'max_features': 'auto', 'min_samples_leaf': 1, 'min_samples_split': 5, 'n_estimators': 51}\n",
      "0.519 for {'bootstrap': False, 'max_depth': 4, 'max_features': 'auto', 'min_samples_leaf': 1, 'min_samples_split': 5, 'n_estimators': 52}\n",
      "0.518 for {'bootstrap': False, 'max_depth': 4, 'max_features': 'auto', 'min_samples_leaf': 1, 'min_samples_split': 5, 'n_estimators': 53}\n",
      "0.519 for {'bootstrap': False, 'max_depth': 4, 'max_features': 'auto', 'min_samples_leaf': 1, 'min_samples_split': 5, 'n_estimators': 54}\n",
      "0.518 for {'bootstrap': False, 'max_depth': 4, 'max_features': 'auto', 'min_samples_leaf': 1, 'min_samples_split': 5, 'n_estimators': 55}\n",
      "0.518 for {'bootstrap': False, 'max_depth': 4, 'max_features': 'auto', 'min_samples_leaf': 2, 'min_samples_split': 2, 'n_estimators': 50}\n",
      "0.518 for {'bootstrap': False, 'max_depth': 4, 'max_features': 'auto', 'min_samples_leaf': 2, 'min_samples_split': 2, 'n_estimators': 51}\n",
      "0.516 for {'bootstrap': False, 'max_depth': 4, 'max_features': 'auto', 'min_samples_leaf': 2, 'min_samples_split': 2, 'n_estimators': 52}\n",
      "0.519 for {'bootstrap': False, 'max_depth': 4, 'max_features': 'auto', 'min_samples_leaf': 2, 'min_samples_split': 2, 'n_estimators': 53}\n",
      "0.519 for {'bootstrap': False, 'max_depth': 4, 'max_features': 'auto', 'min_samples_leaf': 2, 'min_samples_split': 2, 'n_estimators': 54}\n",
      "0.519 for {'bootstrap': False, 'max_depth': 4, 'max_features': 'auto', 'min_samples_leaf': 2, 'min_samples_split': 2, 'n_estimators': 55}\n",
      "0.520 for {'bootstrap': False, 'max_depth': 4, 'max_features': 'auto', 'min_samples_leaf': 2, 'min_samples_split': 5, 'n_estimators': 50}\n",
      "0.520 for {'bootstrap': False, 'max_depth': 4, 'max_features': 'auto', 'min_samples_leaf': 2, 'min_samples_split': 5, 'n_estimators': 51}\n",
      "0.520 for {'bootstrap': False, 'max_depth': 4, 'max_features': 'auto', 'min_samples_leaf': 2, 'min_samples_split': 5, 'n_estimators': 52}\n",
      "0.521 for {'bootstrap': False, 'max_depth': 4, 'max_features': 'auto', 'min_samples_leaf': 2, 'min_samples_split': 5, 'n_estimators': 53}\n",
      "0.520 for {'bootstrap': False, 'max_depth': 4, 'max_features': 'auto', 'min_samples_leaf': 2, 'min_samples_split': 5, 'n_estimators': 54}\n",
      "0.518 for {'bootstrap': False, 'max_depth': 4, 'max_features': 'auto', 'min_samples_leaf': 2, 'min_samples_split': 5, 'n_estimators': 55}\n",
      "0.517 for {'bootstrap': False, 'max_depth': 4, 'max_features': 'sqrt', 'min_samples_leaf': 1, 'min_samples_split': 2, 'n_estimators': 50}\n",
      "0.520 for {'bootstrap': False, 'max_depth': 4, 'max_features': 'sqrt', 'min_samples_leaf': 1, 'min_samples_split': 2, 'n_estimators': 51}\n",
      "0.520 for {'bootstrap': False, 'max_depth': 4, 'max_features': 'sqrt', 'min_samples_leaf': 1, 'min_samples_split': 2, 'n_estimators': 52}\n",
      "0.519 for {'bootstrap': False, 'max_depth': 4, 'max_features': 'sqrt', 'min_samples_leaf': 1, 'min_samples_split': 2, 'n_estimators': 53}\n",
      "0.519 for {'bootstrap': False, 'max_depth': 4, 'max_features': 'sqrt', 'min_samples_leaf': 1, 'min_samples_split': 2, 'n_estimators': 54}\n",
      "0.521 for {'bootstrap': False, 'max_depth': 4, 'max_features': 'sqrt', 'min_samples_leaf': 1, 'min_samples_split': 2, 'n_estimators': 55}\n",
      "0.521 for {'bootstrap': False, 'max_depth': 4, 'max_features': 'sqrt', 'min_samples_leaf': 1, 'min_samples_split': 5, 'n_estimators': 50}\n",
      "0.518 for {'bootstrap': False, 'max_depth': 4, 'max_features': 'sqrt', 'min_samples_leaf': 1, 'min_samples_split': 5, 'n_estimators': 51}\n",
      "0.520 for {'bootstrap': False, 'max_depth': 4, 'max_features': 'sqrt', 'min_samples_leaf': 1, 'min_samples_split': 5, 'n_estimators': 52}\n",
      "0.519 for {'bootstrap': False, 'max_depth': 4, 'max_features': 'sqrt', 'min_samples_leaf': 1, 'min_samples_split': 5, 'n_estimators': 53}\n",
      "0.524 for {'bootstrap': False, 'max_depth': 4, 'max_features': 'sqrt', 'min_samples_leaf': 1, 'min_samples_split': 5, 'n_estimators': 54}\n",
      "0.522 for {'bootstrap': False, 'max_depth': 4, 'max_features': 'sqrt', 'min_samples_leaf': 1, 'min_samples_split': 5, 'n_estimators': 55}\n",
      "0.523 for {'bootstrap': False, 'max_depth': 4, 'max_features': 'sqrt', 'min_samples_leaf': 2, 'min_samples_split': 2, 'n_estimators': 50}\n",
      "0.519 for {'bootstrap': False, 'max_depth': 4, 'max_features': 'sqrt', 'min_samples_leaf': 2, 'min_samples_split': 2, 'n_estimators': 51}\n",
      "0.520 for {'bootstrap': False, 'max_depth': 4, 'max_features': 'sqrt', 'min_samples_leaf': 2, 'min_samples_split': 2, 'n_estimators': 52}\n",
      "0.519 for {'bootstrap': False, 'max_depth': 4, 'max_features': 'sqrt', 'min_samples_leaf': 2, 'min_samples_split': 2, 'n_estimators': 53}\n",
      "0.521 for {'bootstrap': False, 'max_depth': 4, 'max_features': 'sqrt', 'min_samples_leaf': 2, 'min_samples_split': 2, 'n_estimators': 54}\n",
      "0.521 for {'bootstrap': False, 'max_depth': 4, 'max_features': 'sqrt', 'min_samples_leaf': 2, 'min_samples_split': 2, 'n_estimators': 55}\n",
      "0.519 for {'bootstrap': False, 'max_depth': 4, 'max_features': 'sqrt', 'min_samples_leaf': 2, 'min_samples_split': 5, 'n_estimators': 50}\n",
      "0.521 for {'bootstrap': False, 'max_depth': 4, 'max_features': 'sqrt', 'min_samples_leaf': 2, 'min_samples_split': 5, 'n_estimators': 51}\n",
      "0.520 for {'bootstrap': False, 'max_depth': 4, 'max_features': 'sqrt', 'min_samples_leaf': 2, 'min_samples_split': 5, 'n_estimators': 52}\n",
      "0.520 for {'bootstrap': False, 'max_depth': 4, 'max_features': 'sqrt', 'min_samples_leaf': 2, 'min_samples_split': 5, 'n_estimators': 53}\n",
      "0.517 for {'bootstrap': False, 'max_depth': 4, 'max_features': 'sqrt', 'min_samples_leaf': 2, 'min_samples_split': 5, 'n_estimators': 54}\n",
      "0.517 for {'bootstrap': False, 'max_depth': 4, 'max_features': 'sqrt', 'min_samples_leaf': 2, 'min_samples_split': 5, 'n_estimators': 55}\n"
     ]
    }
   ],
   "source": [
    "print(\"Best parameters set found on training set:\")\n",
    "print()\n",
    "print(grid_random_forest.best_params_)\n",
    "print()\n",
    "print(\"Grid scores on training set:\")\n",
    "print()\n",
    "means_random_forest = grid_random_forest.cv_results_[\"mean_test_score\"]\n",
    "for mean, params in zip(means_random_forest, grid_random_forest.cv_results_[\"params\"]):\n",
    "    print(\"%0.3f for %r\" % (mean, params))"
   ]
  },
  {
   "cell_type": "code",
   "execution_count": 27,
   "id": "b65ecfc2",
   "metadata": {},
   "outputs": [
    {
     "name": "stdout",
     "output_type": "stream",
     "text": [
      "Detailed classification report:\n",
      "\n",
      "RANDOM FOREST MODEL ACCURACY: 0.531\n",
      "\n"
     ]
    }
   ],
   "source": [
    "print(\"Detailed classification report:\")\n",
    "print()\n",
    "y_true_random_forest, y_pred_random_forest = y_val, grid_random_forest.predict(x_val)\n",
    "# print(classification_report(y_true, y_pred))\n",
    "accuracy_random_forest = accuracy_score(y_true_random_forest, y_pred_random_forest)\n",
    "print(\"RANDOM FOREST MODEL ACCURACY: \" + str(accuracy_random_forest))\n",
    "print()"
   ]
  },
  {
   "cell_type": "markdown",
   "id": "30a80f1d",
   "metadata": {},
   "source": [
    "# Baseline model\n",
    "Create a baseline model."
   ]
  },
  {
   "cell_type": "code",
   "execution_count": 28,
   "id": "4dbff889",
   "metadata": {},
   "outputs": [
    {
     "data": {
      "text/plain": [
       "GridSearchCV(estimator=DummyClassifier(),\n",
       "             param_grid={'strategy': ['most_frequent']}, scoring='accuracy')"
      ]
     },
     "execution_count": 28,
     "metadata": {},
     "output_type": "execute_result"
    }
   ],
   "source": [
    "dummy = DummyClassifier()\n",
    "param_grid_dummy = {\"strategy\": [\"most_frequent\"]}\n",
    "grid_dummy = GridSearchCV(dummy, param_grid_dummy, scoring=\"accuracy\")\n",
    "grid_dummy.fit(x_train, y_train)"
   ]
  },
  {
   "cell_type": "code",
   "execution_count": 29,
   "id": "d51a5dec",
   "metadata": {},
   "outputs": [
    {
     "name": "stdout",
     "output_type": "stream",
     "text": [
      "Best parameters set found on training set:\n",
      "\n",
      "{'strategy': 'most_frequent'}\n",
      "\n",
      "Grid scores on training set:\n",
      "\n",
      "0.521 for {'strategy': 'most_frequent'}\n"
     ]
    }
   ],
   "source": [
    "print(\"Best parameters set found on training set:\")\n",
    "print()\n",
    "print(grid_dummy.best_params_)\n",
    "print()\n",
    "print(\"Grid scores on training set:\")\n",
    "print()\n",
    "means_dummy = grid_dummy.cv_results_[\"mean_test_score\"]\n",
    "for mean, params in zip(means_dummy, grid_dummy.cv_results_[\"params\"]):\n",
    "    print(\"%0.3f for %r\" % (mean, params))"
   ]
  },
  {
   "cell_type": "code",
   "execution_count": 30,
   "id": "2f990ec2",
   "metadata": {},
   "outputs": [
    {
     "name": "stdout",
     "output_type": "stream",
     "text": [
      "Detailed classification report:\n",
      "\n",
      "DUMMY MODEL ACCURACY: 0.5315\n",
      "\n"
     ]
    }
   ],
   "source": [
    "print(\"Detailed classification report:\")\n",
    "print()\n",
    "y_true_dummy, y_pred_dummy = y_val, grid_dummy.predict(x_val)\n",
    "accuracy_dummy = accuracy_score(y_true_dummy, y_pred_dummy)\n",
    "print(\"DUMMY MODEL ACCURACY: \" + str(accuracy_dummy))\n",
    "print()"
   ]
  },
  {
   "cell_type": "markdown",
   "id": "01958487",
   "metadata": {},
   "source": [
    "# Create plots"
   ]
  },
  {
   "cell_type": "code",
   "execution_count": 31,
   "id": "ae7d74b5",
   "metadata": {},
   "outputs": [
    {
     "name": "stderr",
     "output_type": "stream",
     "text": [
      "/home/jboom/miniconda3/envs/general/lib/python3.8/site-packages/sklearn/utils/deprecation.py:87: FutureWarning: Function plot_confusion_matrix is deprecated; Function `plot_confusion_matrix` is deprecated in 1.0 and will be removed in 1.2. Use one of the class methods: ConfusionMatrixDisplay.from_predictions or ConfusionMatrixDisplay.from_estimator.\n",
      "  warnings.warn(msg, category=FutureWarning)\n",
      "/home/jboom/miniconda3/envs/general/lib/python3.8/site-packages/sklearn/utils/deprecation.py:87: FutureWarning: Function plot_confusion_matrix is deprecated; Function `plot_confusion_matrix` is deprecated in 1.0 and will be removed in 1.2. Use one of the class methods: ConfusionMatrixDisplay.from_predictions or ConfusionMatrixDisplay.from_estimator.\n",
      "  warnings.warn(msg, category=FutureWarning)\n",
      "/home/jboom/miniconda3/envs/general/lib/python3.8/site-packages/sklearn/utils/deprecation.py:87: FutureWarning: Function plot_confusion_matrix is deprecated; Function `plot_confusion_matrix` is deprecated in 1.0 and will be removed in 1.2. Use one of the class methods: ConfusionMatrixDisplay.from_predictions or ConfusionMatrixDisplay.from_estimator.\n",
      "  warnings.warn(msg, category=FutureWarning)\n",
      "/home/jboom/miniconda3/envs/general/lib/python3.8/site-packages/sklearn/utils/deprecation.py:87: FutureWarning: Function plot_confusion_matrix is deprecated; Function `plot_confusion_matrix` is deprecated in 1.0 and will be removed in 1.2. Use one of the class methods: ConfusionMatrixDisplay.from_predictions or ConfusionMatrixDisplay.from_estimator.\n",
      "  warnings.warn(msg, category=FutureWarning)\n",
      "/home/jboom/miniconda3/envs/general/lib/python3.8/site-packages/sklearn/utils/deprecation.py:87: FutureWarning: Function plot_confusion_matrix is deprecated; Function `plot_confusion_matrix` is deprecated in 1.0 and will be removed in 1.2. Use one of the class methods: ConfusionMatrixDisplay.from_predictions or ConfusionMatrixDisplay.from_estimator.\n",
      "  warnings.warn(msg, category=FutureWarning)\n"
     ]
    },
    {
     "data": {
      "image/png": "[encoded data removed]",
      "text/plain": [
       "<Figure size 432x288 with 2 Axes>"
      ]
     },
     "metadata": {
      "needs_background": "light"
     },
     "output_type": "display_data"
    },
    {
     "data": {
      "image/png": "[encoded data removed]",
      "text/plain": [
       "<Figure size 432x288 with 2 Axes>"
      ]
     },
     "metadata": {
      "needs_background": "light"
     },
     "output_type": "display_data"
    },
    {
     "data": {
      "image/png": "[encoded data removed]",
      "text/plain": [
       "<Figure size 432x288 with 2 Axes>"
      ]
     },
     "metadata": {
      "needs_background": "light"
     },
     "output_type": "display_data"
    },
    {
     "data": {
      "image/png": "[encoded data removed]",
      "text/plain": [
       "<Figure size 432x288 with 2 Axes>"
      ]
     },
     "metadata": {
      "needs_background": "light"
     },
     "output_type": "display_data"
    },
    {
     "data": {
      "image/png": "[encoded data removed]",
      "text/plain": [
       "<Figure size 432x288 with 2 Axes>"
      ]
     },
     "metadata": {
      "needs_background": "light"
     },
     "output_type": "display_data"
    }
   ],
   "source": [
    "plot_confusion_matrix(grid_dummy, x_val, y_val)\n",
    "plot_confusion_matrix(grid_linear, x_val, y_val)\n",
    "plot_confusion_matrix(grid_knn, x_val, y_val)\n",
    "plot_confusion_matrix(grid_decision_tree, x_val, y_val)\n",
    "plot_confusion_matrix(grid_random_forest, x_val, y_val)\n",
    "plt.show()"
   ]
  },
  {
   "cell_type": "code",
   "execution_count": 32,
   "id": "65d344da",
   "metadata": {},
   "outputs": [
    {
     "name": "stderr",
     "output_type": "stream",
     "text": [
      "/home/jboom/miniconda3/envs/general/lib/python3.8/site-packages/sklearn/utils/deprecation.py:87: FutureWarning: Function plot_roc_curve is deprecated; Function :func:`plot_roc_curve` is deprecated in 1.0 and will be removed in 1.2. Use one of the class methods: :meth:`sklearn.metric.RocCurveDisplay.from_predictions` or :meth:`sklearn.metric.RocCurveDisplay.from_estimator`.\n",
      "  warnings.warn(msg, category=FutureWarning)\n",
      "/home/jboom/miniconda3/envs/general/lib/python3.8/site-packages/sklearn/utils/deprecation.py:87: FutureWarning: Function plot_roc_curve is deprecated; Function :func:`plot_roc_curve` is deprecated in 1.0 and will be removed in 1.2. Use one of the class methods: :meth:`sklearn.metric.RocCurveDisplay.from_predictions` or :meth:`sklearn.metric.RocCurveDisplay.from_estimator`.\n",
      "  warnings.warn(msg, category=FutureWarning)\n",
      "/home/jboom/miniconda3/envs/general/lib/python3.8/site-packages/sklearn/utils/deprecation.py:87: FutureWarning: Function plot_roc_curve is deprecated; Function :func:`plot_roc_curve` is deprecated in 1.0 and will be removed in 1.2. Use one of the class methods: :meth:`sklearn.metric.RocCurveDisplay.from_predictions` or :meth:`sklearn.metric.RocCurveDisplay.from_estimator`.\n",
      "  warnings.warn(msg, category=FutureWarning)\n",
      "/home/jboom/miniconda3/envs/general/lib/python3.8/site-packages/sklearn/utils/deprecation.py:87: FutureWarning: Function plot_roc_curve is deprecated; Function :func:`plot_roc_curve` is deprecated in 1.0 and will be removed in 1.2. Use one of the class methods: :meth:`sklearn.metric.RocCurveDisplay.from_predictions` or :meth:`sklearn.metric.RocCurveDisplay.from_estimator`.\n",
      "  warnings.warn(msg, category=FutureWarning)\n",
      "/home/jboom/miniconda3/envs/general/lib/python3.8/site-packages/sklearn/utils/deprecation.py:87: FutureWarning: Function plot_roc_curve is deprecated; Function :func:`plot_roc_curve` is deprecated in 1.0 and will be removed in 1.2. Use one of the class methods: :meth:`sklearn.metric.RocCurveDisplay.from_predictions` or :meth:`sklearn.metric.RocCurveDisplay.from_estimator`.\n",
      "  warnings.warn(msg, category=FutureWarning)\n"
     ]
    },
    {
     "data": {
      "image/png": "[encoded data removed]",
      "text/plain": [
       "<Figure size 432x288 with 1 Axes>"
      ]
     },
     "metadata": {
      "needs_background": "light"
     },
     "output_type": "display_data"
    }
   ],
   "source": [
    "roc_dummy = plot_roc_curve(grid_dummy, x_val, y_val, name = \"Baseline\")\n",
    "plot_roc_curve(grid_linear, x_val, y_val, name = \"Linear\", ax = roc_dummy.ax_)\n",
    "plot_roc_curve(grid_knn, x_val, y_val, name = \"kNN\", ax = roc_dummy.ax_)\n",
    "plot_roc_curve(grid_decision_tree, x_val, y_val, name = \"DecisionTree\", ax = roc_dummy.ax_)\n",
    "plot_roc_curve(grid_random_forest, x_val, y_val, name = \"RandomForest\", ax = roc_dummy.ax_)\n",
    "plt.show()"
   ]
  },
  {
   "cell_type": "markdown",
   "id": "59599379",
   "metadata": {},
   "source": [
    "# Final model type: linear classification\n",
    "Since the linear classifier seems to perform the best, we can perform our final test on that one."
   ]
  },
  {
   "cell_type": "code",
   "execution_count": 33,
   "id": "16e9cba8",
   "metadata": {},
   "outputs": [
    {
     "data": {
      "text/html": [
       "<div>\n",
       "<style scoped>\n",
       "    .dataframe tbody tr th:only-of-type {\n",
       "        vertical-align: middle;\n",
       "    }\n",
       "\n",
       "    .dataframe tbody tr th {\n",
       "        vertical-align: top;\n",
       "    }\n",
       "\n",
       "    .dataframe thead th {\n",
       "        text-align: right;\n",
       "    }\n",
       "</style>\n",
       "<table border=\"1\" class=\"dataframe\">\n",
       "  <thead>\n",
       "    <tr style=\"text-align: right;\">\n",
       "      <th></th>\n",
       "      <th>1_antimage</th>\n",
       "      <th>2_axe</th>\n",
       "      <th>3_bane</th>\n",
       "      <th>4_bloodseeker</th>\n",
       "      <th>5_crystal_maiden</th>\n",
       "      <th>6_drow_ranger</th>\n",
       "      <th>7_earthshaker</th>\n",
       "      <th>8_juggernaut</th>\n",
       "      <th>9_mirana</th>\n",
       "      <th>11_nevermore</th>\n",
       "      <th>...</th>\n",
       "      <th>radiant_str</th>\n",
       "      <th>radiant_int</th>\n",
       "      <th>radiant_agi</th>\n",
       "      <th>radiant_melee</th>\n",
       "      <th>radiant_ranged</th>\n",
       "      <th>dire_str</th>\n",
       "      <th>dire_int</th>\n",
       "      <th>dire_agi</th>\n",
       "      <th>dire_melee</th>\n",
       "      <th>dire_ranged</th>\n",
       "    </tr>\n",
       "  </thead>\n",
       "  <tbody>\n",
       "    <tr>\n",
       "      <th>9004</th>\n",
       "      <td>0</td>\n",
       "      <td>0</td>\n",
       "      <td>-1</td>\n",
       "      <td>0</td>\n",
       "      <td>0</td>\n",
       "      <td>0</td>\n",
       "      <td>0</td>\n",
       "      <td>0</td>\n",
       "      <td>0</td>\n",
       "      <td>0</td>\n",
       "      <td>...</td>\n",
       "      <td>0.4</td>\n",
       "      <td>0.2</td>\n",
       "      <td>0.4</td>\n",
       "      <td>0.6</td>\n",
       "      <td>0.4</td>\n",
       "      <td>0.4</td>\n",
       "      <td>0.6</td>\n",
       "      <td>0.0</td>\n",
       "      <td>0.6</td>\n",
       "      <td>0.4</td>\n",
       "    </tr>\n",
       "    <tr>\n",
       "      <th>6770</th>\n",
       "      <td>0</td>\n",
       "      <td>0</td>\n",
       "      <td>1</td>\n",
       "      <td>0</td>\n",
       "      <td>0</td>\n",
       "      <td>0</td>\n",
       "      <td>0</td>\n",
       "      <td>0</td>\n",
       "      <td>0</td>\n",
       "      <td>0</td>\n",
       "      <td>...</td>\n",
       "      <td>0.0</td>\n",
       "      <td>0.6</td>\n",
       "      <td>0.4</td>\n",
       "      <td>0.2</td>\n",
       "      <td>0.8</td>\n",
       "      <td>0.0</td>\n",
       "      <td>0.4</td>\n",
       "      <td>0.6</td>\n",
       "      <td>0.2</td>\n",
       "      <td>0.8</td>\n",
       "    </tr>\n",
       "    <tr>\n",
       "      <th>10162</th>\n",
       "      <td>0</td>\n",
       "      <td>0</td>\n",
       "      <td>1</td>\n",
       "      <td>0</td>\n",
       "      <td>0</td>\n",
       "      <td>0</td>\n",
       "      <td>0</td>\n",
       "      <td>0</td>\n",
       "      <td>0</td>\n",
       "      <td>0</td>\n",
       "      <td>...</td>\n",
       "      <td>0.4</td>\n",
       "      <td>0.4</td>\n",
       "      <td>0.2</td>\n",
       "      <td>0.4</td>\n",
       "      <td>0.6</td>\n",
       "      <td>0.2</td>\n",
       "      <td>0.4</td>\n",
       "      <td>0.4</td>\n",
       "      <td>0.6</td>\n",
       "      <td>0.4</td>\n",
       "    </tr>\n",
       "    <tr>\n",
       "      <th>4087</th>\n",
       "      <td>-1</td>\n",
       "      <td>0</td>\n",
       "      <td>0</td>\n",
       "      <td>0</td>\n",
       "      <td>0</td>\n",
       "      <td>0</td>\n",
       "      <td>0</td>\n",
       "      <td>0</td>\n",
       "      <td>0</td>\n",
       "      <td>0</td>\n",
       "      <td>...</td>\n",
       "      <td>0.8</td>\n",
       "      <td>0.2</td>\n",
       "      <td>0.0</td>\n",
       "      <td>0.6</td>\n",
       "      <td>0.4</td>\n",
       "      <td>0.2</td>\n",
       "      <td>0.4</td>\n",
       "      <td>0.4</td>\n",
       "      <td>0.6</td>\n",
       "      <td>0.4</td>\n",
       "    </tr>\n",
       "    <tr>\n",
       "      <th>10673</th>\n",
       "      <td>0</td>\n",
       "      <td>0</td>\n",
       "      <td>0</td>\n",
       "      <td>0</td>\n",
       "      <td>-1</td>\n",
       "      <td>0</td>\n",
       "      <td>0</td>\n",
       "      <td>0</td>\n",
       "      <td>0</td>\n",
       "      <td>0</td>\n",
       "      <td>...</td>\n",
       "      <td>0.4</td>\n",
       "      <td>0.4</td>\n",
       "      <td>0.2</td>\n",
       "      <td>0.6</td>\n",
       "      <td>0.4</td>\n",
       "      <td>0.6</td>\n",
       "      <td>0.4</td>\n",
       "      <td>0.0</td>\n",
       "      <td>0.6</td>\n",
       "      <td>0.4</td>\n",
       "    </tr>\n",
       "  </tbody>\n",
       "</table>\n",
       "<p>5 rows × 133 columns</p>\n",
       "</div>"
      ],
      "text/plain": [
       "       1_antimage  2_axe  3_bane  4_bloodseeker  5_crystal_maiden  \\\n",
       "9004            0      0      -1              0                 0   \n",
       "6770            0      0       1              0                 0   \n",
       "10162           0      0       1              0                 0   \n",
       "4087           -1      0       0              0                 0   \n",
       "10673           0      0       0              0                -1   \n",
       "\n",
       "       6_drow_ranger  7_earthshaker  8_juggernaut  9_mirana  11_nevermore  \\\n",
       "9004               0              0             0         0             0   \n",
       "6770               0              0             0         0             0   \n",
       "10162              0              0             0         0             0   \n",
       "4087               0              0             0         0             0   \n",
       "10673              0              0             0         0             0   \n",
       "\n",
       "       ...  radiant_str  radiant_int  radiant_agi  radiant_melee  \\\n",
       "9004   ...          0.4          0.2          0.4            0.6   \n",
       "6770   ...          0.0          0.6          0.4            0.2   \n",
       "10162  ...          0.4          0.4          0.2            0.4   \n",
       "4087   ...          0.8          0.2          0.0            0.6   \n",
       "10673  ...          0.4          0.4          0.2            0.6   \n",
       "\n",
       "       radiant_ranged  dire_str  dire_int  dire_agi  dire_melee  dire_ranged  \n",
       "9004              0.4       0.4       0.6       0.0         0.6          0.4  \n",
       "6770              0.8       0.0       0.4       0.6         0.2          0.8  \n",
       "10162             0.6       0.2       0.4       0.4         0.6          0.4  \n",
       "4087              0.4       0.2       0.4       0.4         0.6          0.4  \n",
       "10673             0.4       0.6       0.4       0.0         0.6          0.4  \n",
       "\n",
       "[5 rows x 133 columns]"
      ]
     },
     "execution_count": 33,
     "metadata": {},
     "output_type": "execute_result"
    }
   ],
   "source": [
    "new_train_x = pandas.concat([x_train, x_val])\n",
    "new_train_y = pandas.concat([y_train, y_val])\n",
    "new_train_x.head()"
   ]
  },
  {
   "cell_type": "code",
   "execution_count": 34,
   "id": "646d1b88",
   "metadata": {},
   "outputs": [
    {
     "name": "stdout",
     "output_type": "stream",
     "text": [
      "9004    -1\n",
      "6770    -1\n",
      "10162    1\n",
      "4087     1\n",
      "10673   -1\n",
      "        ..\n",
      "10820    1\n",
      "10474   -1\n",
      "1241    -1\n",
      "1282     1\n",
      "10726    1\n",
      "Name: match_result, Length: 10386, dtype: int64\n"
     ]
    }
   ],
   "source": [
    "print(new_train_y)"
   ]
  },
  {
   "cell_type": "code",
   "execution_count": 35,
   "id": "fd370bae",
   "metadata": {},
   "outputs": [
    {
     "data": {
      "text/plain": [
       "SVC(C=1, kernel='linear')"
      ]
     },
     "execution_count": 35,
     "metadata": {},
     "output_type": "execute_result"
    }
   ],
   "source": [
    "linear = SVC(C = 1, kernel = \"linear\")\n",
    "linear.fit(new_train_x, new_train_y)"
   ]
  },
  {
   "cell_type": "code",
   "execution_count": 36,
   "id": "0fe5170f",
   "metadata": {},
   "outputs": [
    {
     "name": "stdout",
     "output_type": "stream",
     "text": [
      "LINEAR MODEL ACCURACY: 0.5545\n"
     ]
    },
    {
     "name": "stderr",
     "output_type": "stream",
     "text": [
      "/home/jboom/miniconda3/envs/general/lib/python3.8/site-packages/sklearn/utils/deprecation.py:87: FutureWarning: Function plot_roc_curve is deprecated; Function :func:`plot_roc_curve` is deprecated in 1.0 and will be removed in 1.2. Use one of the class methods: :meth:`sklearn.metric.RocCurveDisplay.from_predictions` or :meth:`sklearn.metric.RocCurveDisplay.from_estimator`.\n",
      "  warnings.warn(msg, category=FutureWarning)\n"
     ]
    },
    {
     "data": {
      "image/png": "[encoded data removed]",
      "text/plain": [
       "<Figure size 432x288 with 1 Axes>"
      ]
     },
     "metadata": {
      "needs_background": "light"
     },
     "output_type": "display_data"
    }
   ],
   "source": [
    "y_true_final, y_pred_final = y_test, grid_linear.predict(x_test)\n",
    "accuracy_final = accuracy_score(y_true_final, y_pred_final)\n",
    "print(\"LINEAR MODEL ACCURACY: \" + str(accuracy_final))\n",
    "plot_roc_curve(linear, x_test, y_test, name = \"Linear\")\n",
    "plt.show()"
   ]
  },
  {
   "cell_type": "code",
   "execution_count": 37,
   "id": "fc6ecbbd",
   "metadata": {},
   "outputs": [
    {
     "name": "stderr",
     "output_type": "stream",
     "text": [
      "/home/jboom/miniconda3/envs/general/lib/python3.8/site-packages/sklearn/utils/deprecation.py:87: FutureWarning: Function plot_confusion_matrix is deprecated; Function `plot_confusion_matrix` is deprecated in 1.0 and will be removed in 1.2. Use one of the class methods: ConfusionMatrixDisplay.from_predictions or ConfusionMatrixDisplay.from_estimator.\n",
      "  warnings.warn(msg, category=FutureWarning)\n"
     ]
    },
    {
     "data": {
      "image/png": "[encoded data removed]",
      "text/plain": [
       "<Figure size 432x288 with 2 Axes>"
      ]
     },
     "metadata": {
      "needs_background": "light"
     },
     "output_type": "display_data"
    }
   ],
   "source": [
    "plot_confusion_matrix(linear, x_test, y_test)\n",
    "plt.show()"
   ]
  },
  {
   "cell_type": "code",
   "execution_count": null,
   "id": "b18ee13b",
   "metadata": {},
   "outputs": [],
   "source": []
  }
 ],
 "metadata": {
  "kernelspec": {
   "display_name": "Python 3 (ipykernel)",
   "language": "python",
   "name": "python3"
  },
  "language_info": {
   "codemirror_mode": {
    "name": "ipython",
    "version": 3
   },
   "file_extension": ".py",
   "mimetype": "text/x-python",
   "name": "python",
   "nbconvert_exporter": "python",
   "pygments_lexer": "ipython3",
   "version": "3.8.1"
  }
 },
 "nbformat": 4,
 "nbformat_minor": 5
}
